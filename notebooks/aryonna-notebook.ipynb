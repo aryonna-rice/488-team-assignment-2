{
 "cells": [
  {
   "cell_type": "markdown",
   "metadata": {},
   "source": [
    "# **Analysis for Team Assignment 2**"
   ]
  },
  {
   "cell_type": "code",
   "execution_count": 1,
   "metadata": {},
   "outputs": [],
   "source": [
    "import sys\n",
    "from pathlib import Path\n",
    "\n",
    "# Adjust the path below according to your project's structure\n",
    "# This should be the path to the directory containing 'notebooks' and 'utils'\n",
    "project_root = Path.cwd().parent  # If your notebook is directly inside the 'notebooks' directory\n",
    "if str(project_root) not in sys.path:\n",
    "    sys.path.append(str(project_root))"
   ]
  },
  {
   "cell_type": "code",
   "execution_count": 2,
   "metadata": {},
   "outputs": [],
   "source": [
    "%load_ext autoreload\n",
    "%autoreload 2"
   ]
  },
  {
   "cell_type": "code",
   "execution_count": 3,
   "metadata": {},
   "outputs": [],
   "source": [
    "import utils.utility as utility\n",
    "import imputers.latest_credit_pull_d as lcpd\n",
    "import imputers.earliest_cr_line_d as ecld\n",
    "import imputers.last_pymnt_d as lpd\n",
    "import imputers.numeric_data as nd\n",
    "\n",
    "# We first import a number of libraries that we will be using in today's class\n",
    "import pandas as pd\n",
    "import numpy as np\n",
    "\n",
    "# Plotting packages we'll use\n",
    "import matplotlib.pyplot as plt\n",
    "import seaborn as sns\n",
    "\n",
    "# Rather than importing the whole sklearn library, we will import only certain modules\n",
    "from sklearn.datasets import fetch_california_housing\n",
    "from sklearn.preprocessing import StandardScaler\n",
    "from sklearn import metrics, model_selection\n",
    "from sklearn.linear_model import LinearRegression, Ridge, Lasso, RidgeCV\n",
    "\n",
    "from sklearn.preprocessing import OneHotEncoder, StandardScaler, OrdinalEncoder\n",
    "from sklearn.impute import SimpleImputer\n",
    "from sklearn.compose import ColumnTransformer\n",
    "from sklearn.pipeline import Pipeline"
   ]
  },
  {
   "cell_type": "markdown",
   "metadata": {},
   "source": [
    "## *Importing Data*"
   ]
  },
  {
   "cell_type": "code",
   "execution_count": 4,
   "metadata": {},
   "outputs": [],
   "source": [
    "path_to_rejected = '../data/LendingClub/rejected_2007_to_2018Q4.csv'\n",
    "path_to_accepted = '../data/LendingClub/accepted_2007_to_2018Q4.csv'"
   ]
  },
  {
   "cell_type": "markdown",
   "metadata": {},
   "source": [
    "## *Read rejected and accpeted data into two seperate dataframes*"
   ]
  },
  {
   "cell_type": "code",
   "execution_count": 5,
   "metadata": {},
   "outputs": [
    {
     "name": "stderr",
     "output_type": "stream",
     "text": [
      "/var/folders/y4/6g9kvk5j1nl_xnqtxdrs3s180000gn/T/ipykernel_12190/706388349.py:3: DtypeWarning: Columns (0,19,49,59,118,129,130,131,134,135,136,139,145,146,147) have mixed types. Specify dtype option on import or set low_memory=False.\n",
      "  df_accepted = pd.read_csv(path_to_accepted)\n"
     ]
    }
   ],
   "source": [
    "# Create DFs\n",
    "df_rejected = pd.read_csv(path_to_rejected)\n",
    "df_accepted = pd.read_csv(path_to_accepted)\n"
   ]
  },
  {
   "cell_type": "code",
   "execution_count": 6,
   "metadata": {},
   "outputs": [
    {
     "name": "stdout",
     "output_type": "stream",
     "text": [
      "(2260701, 151)\n",
      "(27648741, 9)\n"
     ]
    },
    {
     "data": {
      "text/html": [
       "<div>\n",
       "<style scoped>\n",
       "    .dataframe tbody tr th:only-of-type {\n",
       "        vertical-align: middle;\n",
       "    }\n",
       "\n",
       "    .dataframe tbody tr th {\n",
       "        vertical-align: top;\n",
       "    }\n",
       "\n",
       "    .dataframe thead th {\n",
       "        text-align: right;\n",
       "    }\n",
       "</style>\n",
       "<table border=\"1\" class=\"dataframe\">\n",
       "  <thead>\n",
       "    <tr style=\"text-align: right;\">\n",
       "      <th></th>\n",
       "      <th>id</th>\n",
       "      <th>member_id</th>\n",
       "      <th>loan_amnt</th>\n",
       "      <th>funded_amnt</th>\n",
       "      <th>funded_amnt_inv</th>\n",
       "      <th>term</th>\n",
       "      <th>int_rate</th>\n",
       "      <th>installment</th>\n",
       "      <th>grade</th>\n",
       "      <th>sub_grade</th>\n",
       "      <th>...</th>\n",
       "      <th>hardship_payoff_balance_amount</th>\n",
       "      <th>hardship_last_payment_amount</th>\n",
       "      <th>disbursement_method</th>\n",
       "      <th>debt_settlement_flag</th>\n",
       "      <th>debt_settlement_flag_date</th>\n",
       "      <th>settlement_status</th>\n",
       "      <th>settlement_date</th>\n",
       "      <th>settlement_amount</th>\n",
       "      <th>settlement_percentage</th>\n",
       "      <th>settlement_term</th>\n",
       "    </tr>\n",
       "  </thead>\n",
       "  <tbody>\n",
       "    <tr>\n",
       "      <th>0</th>\n",
       "      <td>68407277</td>\n",
       "      <td>NaN</td>\n",
       "      <td>3600.0</td>\n",
       "      <td>3600.0</td>\n",
       "      <td>3600.0</td>\n",
       "      <td>36 months</td>\n",
       "      <td>13.99</td>\n",
       "      <td>123.03</td>\n",
       "      <td>C</td>\n",
       "      <td>C4</td>\n",
       "      <td>...</td>\n",
       "      <td>NaN</td>\n",
       "      <td>NaN</td>\n",
       "      <td>Cash</td>\n",
       "      <td>N</td>\n",
       "      <td>NaN</td>\n",
       "      <td>NaN</td>\n",
       "      <td>NaN</td>\n",
       "      <td>NaN</td>\n",
       "      <td>NaN</td>\n",
       "      <td>NaN</td>\n",
       "    </tr>\n",
       "    <tr>\n",
       "      <th>1</th>\n",
       "      <td>68355089</td>\n",
       "      <td>NaN</td>\n",
       "      <td>24700.0</td>\n",
       "      <td>24700.0</td>\n",
       "      <td>24700.0</td>\n",
       "      <td>36 months</td>\n",
       "      <td>11.99</td>\n",
       "      <td>820.28</td>\n",
       "      <td>C</td>\n",
       "      <td>C1</td>\n",
       "      <td>...</td>\n",
       "      <td>NaN</td>\n",
       "      <td>NaN</td>\n",
       "      <td>Cash</td>\n",
       "      <td>N</td>\n",
       "      <td>NaN</td>\n",
       "      <td>NaN</td>\n",
       "      <td>NaN</td>\n",
       "      <td>NaN</td>\n",
       "      <td>NaN</td>\n",
       "      <td>NaN</td>\n",
       "    </tr>\n",
       "    <tr>\n",
       "      <th>2</th>\n",
       "      <td>68341763</td>\n",
       "      <td>NaN</td>\n",
       "      <td>20000.0</td>\n",
       "      <td>20000.0</td>\n",
       "      <td>20000.0</td>\n",
       "      <td>60 months</td>\n",
       "      <td>10.78</td>\n",
       "      <td>432.66</td>\n",
       "      <td>B</td>\n",
       "      <td>B4</td>\n",
       "      <td>...</td>\n",
       "      <td>NaN</td>\n",
       "      <td>NaN</td>\n",
       "      <td>Cash</td>\n",
       "      <td>N</td>\n",
       "      <td>NaN</td>\n",
       "      <td>NaN</td>\n",
       "      <td>NaN</td>\n",
       "      <td>NaN</td>\n",
       "      <td>NaN</td>\n",
       "      <td>NaN</td>\n",
       "    </tr>\n",
       "    <tr>\n",
       "      <th>3</th>\n",
       "      <td>66310712</td>\n",
       "      <td>NaN</td>\n",
       "      <td>35000.0</td>\n",
       "      <td>35000.0</td>\n",
       "      <td>35000.0</td>\n",
       "      <td>60 months</td>\n",
       "      <td>14.85</td>\n",
       "      <td>829.90</td>\n",
       "      <td>C</td>\n",
       "      <td>C5</td>\n",
       "      <td>...</td>\n",
       "      <td>NaN</td>\n",
       "      <td>NaN</td>\n",
       "      <td>Cash</td>\n",
       "      <td>N</td>\n",
       "      <td>NaN</td>\n",
       "      <td>NaN</td>\n",
       "      <td>NaN</td>\n",
       "      <td>NaN</td>\n",
       "      <td>NaN</td>\n",
       "      <td>NaN</td>\n",
       "    </tr>\n",
       "    <tr>\n",
       "      <th>4</th>\n",
       "      <td>68476807</td>\n",
       "      <td>NaN</td>\n",
       "      <td>10400.0</td>\n",
       "      <td>10400.0</td>\n",
       "      <td>10400.0</td>\n",
       "      <td>60 months</td>\n",
       "      <td>22.45</td>\n",
       "      <td>289.91</td>\n",
       "      <td>F</td>\n",
       "      <td>F1</td>\n",
       "      <td>...</td>\n",
       "      <td>NaN</td>\n",
       "      <td>NaN</td>\n",
       "      <td>Cash</td>\n",
       "      <td>N</td>\n",
       "      <td>NaN</td>\n",
       "      <td>NaN</td>\n",
       "      <td>NaN</td>\n",
       "      <td>NaN</td>\n",
       "      <td>NaN</td>\n",
       "      <td>NaN</td>\n",
       "    </tr>\n",
       "  </tbody>\n",
       "</table>\n",
       "<p>5 rows × 151 columns</p>\n",
       "</div>"
      ],
      "text/plain": [
       "         id  member_id  loan_amnt  funded_amnt  funded_amnt_inv        term  \\\n",
       "0  68407277        NaN     3600.0       3600.0           3600.0   36 months   \n",
       "1  68355089        NaN    24700.0      24700.0          24700.0   36 months   \n",
       "2  68341763        NaN    20000.0      20000.0          20000.0   60 months   \n",
       "3  66310712        NaN    35000.0      35000.0          35000.0   60 months   \n",
       "4  68476807        NaN    10400.0      10400.0          10400.0   60 months   \n",
       "\n",
       "   int_rate  installment grade sub_grade  ... hardship_payoff_balance_amount  \\\n",
       "0     13.99       123.03     C        C4  ...                            NaN   \n",
       "1     11.99       820.28     C        C1  ...                            NaN   \n",
       "2     10.78       432.66     B        B4  ...                            NaN   \n",
       "3     14.85       829.90     C        C5  ...                            NaN   \n",
       "4     22.45       289.91     F        F1  ...                            NaN   \n",
       "\n",
       "  hardship_last_payment_amount disbursement_method  debt_settlement_flag  \\\n",
       "0                          NaN                Cash                     N   \n",
       "1                          NaN                Cash                     N   \n",
       "2                          NaN                Cash                     N   \n",
       "3                          NaN                Cash                     N   \n",
       "4                          NaN                Cash                     N   \n",
       "\n",
       "  debt_settlement_flag_date settlement_status settlement_date  \\\n",
       "0                       NaN               NaN             NaN   \n",
       "1                       NaN               NaN             NaN   \n",
       "2                       NaN               NaN             NaN   \n",
       "3                       NaN               NaN             NaN   \n",
       "4                       NaN               NaN             NaN   \n",
       "\n",
       "  settlement_amount settlement_percentage settlement_term  \n",
       "0               NaN                   NaN             NaN  \n",
       "1               NaN                   NaN             NaN  \n",
       "2               NaN                   NaN             NaN  \n",
       "3               NaN                   NaN             NaN  \n",
       "4               NaN                   NaN             NaN  \n",
       "\n",
       "[5 rows x 151 columns]"
      ]
     },
     "execution_count": 6,
     "metadata": {},
     "output_type": "execute_result"
    }
   ],
   "source": [
    "# Check rows and columns\n",
    "print(df_accepted.shape)\n",
    "print(df_rejected.shape)\n",
    "# 3. output first 5 observations\n",
    "#df_rejected.head()\n",
    "df_accepted.head()"
   ]
  },
  {
   "cell_type": "markdown",
   "metadata": {},
   "source": [
    "## *Examine features* "
   ]
  },
  {
   "cell_type": "code",
   "execution_count": null,
   "metadata": {},
   "outputs": [],
   "source": [
    "df_accepted.info(verbose=True, show_counts=True)\n",
    "df_rejected.info(verbose=True, show_counts=True)\n"
   ]
  },
  {
   "cell_type": "markdown",
   "metadata": {},
   "source": [
    "## *Droping columns*"
   ]
  },
  {
   "cell_type": "markdown",
   "metadata": {},
   "source": [
    "### *Dropping irrelevant columns*"
   ]
  },
  {
   "cell_type": "code",
   "execution_count": 7,
   "metadata": {},
   "outputs": [],
   "source": [
    "# Get positions of irrelevant columns\n",
    "rejected_positions_to_drop = [2, 8]\n",
    "accepted_positions_to_drop = [0, 1, 18, 19, 55, 21, 10, 22]\n",
    "\n",
    "# Get the column names based on their positions\n",
    "rejected_columns_to_drop = df_rejected.columns[rejected_positions_to_drop]\n",
    "accepted_columns_to_drop = df_accepted.columns[accepted_positions_to_drop]\n",
    "\n",
    "# Drop irrelevant columns\n",
    "df_rejected = df_rejected.drop(rejected_columns_to_drop, axis=1)\n",
    "df_accepted = df_accepted.drop(accepted_columns_to_drop, axis=1)\n"
   ]
  },
  {
   "cell_type": "markdown",
   "metadata": {},
   "source": [
    "### *Dropping columns with a high null count*"
   ]
  },
  {
   "cell_type": "code",
   "execution_count": 8,
   "metadata": {},
   "outputs": [],
   "source": [
    "# Drop where the null count is greater than or equal to 50% of samples.\n",
    "df_accepted = utility.drop_null_columns(df_accepted)\n",
    "df_rejected = utility.drop_null_columns(df_rejected)"
   ]
  },
  {
   "cell_type": "code",
   "execution_count": null,
   "metadata": {},
   "outputs": [],
   "source": [
    "# Check rows and columns\n",
    "print(df_accepted.shape)\n",
    "print(df_rejected.shape)"
   ]
  },
  {
   "cell_type": "code",
   "execution_count": null,
   "metadata": {},
   "outputs": [],
   "source": [
    "print(list(df_accepted.columns))"
   ]
  },
  {
   "cell_type": "markdown",
   "metadata": {},
   "source": [
    "## Drop outliers"
   ]
  },
  {
   "cell_type": "code",
   "execution_count": 9,
   "metadata": {},
   "outputs": [],
   "source": [
    "df_accepted = utility.remove_outliers(df=df_accepted)"
   ]
  },
  {
   "cell_type": "markdown",
   "metadata": {},
   "source": [
    "### Examine data's distribution"
   ]
  },
  {
   "cell_type": "code",
   "execution_count": null,
   "metadata": {},
   "outputs": [],
   "source": [
    "# Get some summary statistics\n",
    "df_rejected.describe()\n",
    "df_accepted.describe()"
   ]
  },
  {
   "cell_type": "code",
   "execution_count": 10,
   "metadata": {},
   "outputs": [
    {
     "name": "stdout",
     "output_type": "stream",
     "text": [
      "['loan_amnt', 'funded_amnt', 'funded_amnt_inv', 'int_rate', 'installment', 'fico_range_low', 'fico_range_high', 'open_acc', 'total_acc', 'total_pymnt', 'total_pymnt_inv', 'total_rec_prncp', 'last_fico_range_high', 'last_fico_range_low', 'il_util', 'open_rv_24m', 'acc_open_past_24mths', 'mo_sin_old_rev_tl_op', 'mths_since_recent_inq', 'num_actv_bc_tl', 'num_actv_rev_tl', 'num_bc_sats', 'num_bc_tl', 'num_op_rev_tl', 'num_rev_accts', 'num_rev_tl_bal_gt_0', 'num_sats', 'num_tl_op_past_12m']\n"
     ]
    }
   ],
   "source": [
    "# Get the columns with high skew values as these need to be fixed later\n",
    "skewed_columns = utility.get_high_skewed_columns(df=df_accepted)\n",
    "print(skewed_columns)"
   ]
  },
  {
   "cell_type": "code",
   "execution_count": null,
   "metadata": {},
   "outputs": [],
   "source": [
    "# Visualize numerical data for accepted data\n",
    "utility.visualize_numerical_variables(df_accepted)"
   ]
  },
  {
   "cell_type": "code",
   "execution_count": null,
   "metadata": {},
   "outputs": [],
   "source": [
    "# Visualize numerical data for rejected data\n",
    "utility.visualize_numerical_variables(df_rejected)"
   ]
  },
  {
   "cell_type": "markdown",
   "metadata": {},
   "source": [
    "##  Imputing missing values "
   ]
  },
  {
   "cell_type": "markdown",
   "metadata": {},
   "source": [
    "### Imputing dates"
   ]
  },
  {
   "cell_type": "code",
   "execution_count": 11,
   "metadata": {},
   "outputs": [],
   "source": [
    "# Get a list of all columns that are dates \n",
    "potential_date_columns = utility.get_category_columns(df_accepted)"
   ]
  },
  {
   "cell_type": "code",
   "execution_count": null,
   "metadata": {},
   "outputs": [],
   "source": [
    "# Display each object with its value count\n",
    "value_counts = utility.display_value_counts(df_accepted, potential_date_columns)\n",
    "value_counts"
   ]
  },
  {
   "cell_type": "markdown",
   "metadata": {},
   "source": [
    "#### Observations from Value Counts\n",
    "*Upon looking at the value counts, the following observations were made:*\n",
    "\n",
    "- There are four dates: 'issue_d', 'earliest_cr_line', 'last_pymnt_d', 'last_credit_pull_d'\n",
    "- These values must be properly dealt with to be used in our analysis\n",
    "- issue_d: \n",
    "    - Can not be imputed. Drop all rows where loan_d is null\n",
    "- earliest_cr_line:\n",
    "    - Should be imputed based on\n"
   ]
  },
  {
   "cell_type": "code",
   "execution_count": 13,
   "metadata": {},
   "outputs": [],
   "source": [
    "# Drop all rows where issue_d is null\n",
    "df_accepted = df_accepted.dropna(subset=['issue_d'])"
   ]
  },
  {
   "cell_type": "code",
   "execution_count": 14,
   "metadata": {},
   "outputs": [],
   "source": [
    "# Type cast all date columns to date objects\n",
    "date_columns = ['issue_d', 'earliest_cr_line', 'last_pymnt_d', 'last_credit_pull_d']\n",
    "df_accepted = utility.to_datetime(df=df_accepted, columns=date_columns)"
   ]
  },
  {
   "cell_type": "code",
   "execution_count": 15,
   "metadata": {},
   "outputs": [],
   "source": [
    "# Impute missing dates\n",
    "ecld_imputer = ecld.EarliestCRLineDateImputer()\n",
    "ecld_imputer.fit(X=df_accepted)\n",
    "df_accepted = ecld_imputer.transform(X=df_accepted)\n",
    "\n",
    "lcpd_imputer = lcpd.LatestCreditPullDateImputer()\n",
    "lcpd_imputer.fit(X=df_accepted)\n",
    "df_accepted = lcpd_imputer.transform(X=df_accepted)\n",
    "\n",
    "lpd_imputer = lpd.LastPaymentDateImputer()\n",
    "lpd_imputer.fit(X=df_accepted)\n",
    "df_accepted = lpd_imputer.transform(X=df_accepted)"
   ]
  },
  {
   "cell_type": "markdown",
   "metadata": {},
   "source": [
    "### Categorical Data"
   ]
  },
  {
   "cell_type": "code",
   "execution_count": 16,
   "metadata": {},
   "outputs": [],
   "source": [
    "# Drop loan_status: Does not meet the credit policy. Status:Fully Paid, Does not meet the credit policy. Status:Charged Off,\n",
    "# emp_length: 10+ years, < 1 year\n",
    "df_accepted = df_accepted[(df_accepted.emp_length != '10+ years') &\n",
    "                          (df_accepted.emp_length != '< 1 year')]"
   ]
  },
  {
   "cell_type": "code",
   "execution_count": 17,
   "metadata": {},
   "outputs": [],
   "source": [
    "# Make the rest categorical \n",
    "category_columns = utility.get_category_columns(df=df_accepted)\n",
    "result_list = [item for item in category_columns if item not in date_columns]\n",
    "df_accepted = utility.to_categorical(df=df_accepted, columns=result_list)"
   ]
  },
  {
   "cell_type": "code",
   "execution_count": 18,
   "metadata": {},
   "outputs": [
    {
     "data": {
      "text/html": [
       "<div>\n",
       "<style scoped>\n",
       "    .dataframe tbody tr th:only-of-type {\n",
       "        vertical-align: middle;\n",
       "    }\n",
       "\n",
       "    .dataframe tbody tr th {\n",
       "        vertical-align: top;\n",
       "    }\n",
       "\n",
       "    .dataframe thead th {\n",
       "        text-align: right;\n",
       "    }\n",
       "</style>\n",
       "<table border=\"1\" class=\"dataframe\">\n",
       "  <thead>\n",
       "    <tr style=\"text-align: right;\">\n",
       "      <th></th>\n",
       "      <th>loan_amnt</th>\n",
       "      <th>funded_amnt</th>\n",
       "      <th>funded_amnt_inv</th>\n",
       "      <th>term</th>\n",
       "      <th>int_rate</th>\n",
       "      <th>installment</th>\n",
       "      <th>grade</th>\n",
       "      <th>sub_grade</th>\n",
       "      <th>emp_length</th>\n",
       "      <th>home_ownership</th>\n",
       "      <th>...</th>\n",
       "      <th>percent_bc_gt_75</th>\n",
       "      <th>pub_rec_bankruptcies</th>\n",
       "      <th>tax_liens</th>\n",
       "      <th>tot_hi_cred_lim</th>\n",
       "      <th>total_bal_ex_mort</th>\n",
       "      <th>total_bc_limit</th>\n",
       "      <th>total_il_high_credit_limit</th>\n",
       "      <th>hardship_flag</th>\n",
       "      <th>disbursement_method</th>\n",
       "      <th>debt_settlement_flag</th>\n",
       "    </tr>\n",
       "  </thead>\n",
       "  <tbody>\n",
       "    <tr>\n",
       "      <th>4</th>\n",
       "      <td>10400.0</td>\n",
       "      <td>10400.0</td>\n",
       "      <td>10400.0</td>\n",
       "      <td>60 months</td>\n",
       "      <td>22.45</td>\n",
       "      <td>289.91</td>\n",
       "      <td>F</td>\n",
       "      <td>F1</td>\n",
       "      <td>3 years</td>\n",
       "      <td>MORTGAGE</td>\n",
       "      <td>...</td>\n",
       "      <td>60.0</td>\n",
       "      <td>0.0</td>\n",
       "      <td>0.0</td>\n",
       "      <td>439570.0</td>\n",
       "      <td>95768.0</td>\n",
       "      <td>20300.0</td>\n",
       "      <td>88097.0</td>\n",
       "      <td>N</td>\n",
       "      <td>Cash</td>\n",
       "      <td>N</td>\n",
       "    </tr>\n",
       "    <tr>\n",
       "      <th>8</th>\n",
       "      <td>10000.0</td>\n",
       "      <td>10000.0</td>\n",
       "      <td>10000.0</td>\n",
       "      <td>36 months</td>\n",
       "      <td>6.49</td>\n",
       "      <td>306.45</td>\n",
       "      <td>A</td>\n",
       "      <td>A2</td>\n",
       "      <td>6 years</td>\n",
       "      <td>RENT</td>\n",
       "      <td>...</td>\n",
       "      <td>28.6</td>\n",
       "      <td>1.0</td>\n",
       "      <td>0.0</td>\n",
       "      <td>61099.0</td>\n",
       "      <td>27957.0</td>\n",
       "      <td>16400.0</td>\n",
       "      <td>30799.0</td>\n",
       "      <td>N</td>\n",
       "      <td>Cash</td>\n",
       "      <td>N</td>\n",
       "    </tr>\n",
       "    <tr>\n",
       "      <th>11</th>\n",
       "      <td>16000.0</td>\n",
       "      <td>16000.0</td>\n",
       "      <td>16000.0</td>\n",
       "      <td>60 months</td>\n",
       "      <td>12.88</td>\n",
       "      <td>363.07</td>\n",
       "      <td>C</td>\n",
       "      <td>C2</td>\n",
       "      <td>1 year</td>\n",
       "      <td>MORTGAGE</td>\n",
       "      <td>...</td>\n",
       "      <td>60.0</td>\n",
       "      <td>0.0</td>\n",
       "      <td>0.0</td>\n",
       "      <td>309638.0</td>\n",
       "      <td>62407.0</td>\n",
       "      <td>45900.0</td>\n",
       "      <td>45838.0</td>\n",
       "      <td>N</td>\n",
       "      <td>Cash</td>\n",
       "      <td>N</td>\n",
       "    </tr>\n",
       "    <tr>\n",
       "      <th>12</th>\n",
       "      <td>1400.0</td>\n",
       "      <td>1400.0</td>\n",
       "      <td>1400.0</td>\n",
       "      <td>36 months</td>\n",
       "      <td>12.88</td>\n",
       "      <td>47.10</td>\n",
       "      <td>C</td>\n",
       "      <td>C2</td>\n",
       "      <td>3 years</td>\n",
       "      <td>MORTGAGE</td>\n",
       "      <td>...</td>\n",
       "      <td>75.0</td>\n",
       "      <td>0.0</td>\n",
       "      <td>0.0</td>\n",
       "      <td>372109.0</td>\n",
       "      <td>75258.0</td>\n",
       "      <td>34500.0</td>\n",
       "      <td>55501.0</td>\n",
       "      <td>N</td>\n",
       "      <td>Cash</td>\n",
       "      <td>N</td>\n",
       "    </tr>\n",
       "    <tr>\n",
       "      <th>13</th>\n",
       "      <td>18000.0</td>\n",
       "      <td>18000.0</td>\n",
       "      <td>18000.0</td>\n",
       "      <td>60 months</td>\n",
       "      <td>19.48</td>\n",
       "      <td>471.70</td>\n",
       "      <td>E</td>\n",
       "      <td>E2</td>\n",
       "      <td>7 years</td>\n",
       "      <td>RENT</td>\n",
       "      <td>...</td>\n",
       "      <td>14.3</td>\n",
       "      <td>1.0</td>\n",
       "      <td>0.0</td>\n",
       "      <td>65819.0</td>\n",
       "      <td>36247.0</td>\n",
       "      <td>10300.0</td>\n",
       "      <td>31319.0</td>\n",
       "      <td>N</td>\n",
       "      <td>Cash</td>\n",
       "      <td>N</td>\n",
       "    </tr>\n",
       "  </tbody>\n",
       "</table>\n",
       "<p>5 rows × 101 columns</p>\n",
       "</div>"
      ],
      "text/plain": [
       "    loan_amnt  funded_amnt  funded_amnt_inv        term  int_rate  \\\n",
       "4     10400.0      10400.0          10400.0   60 months     22.45   \n",
       "8     10000.0      10000.0          10000.0   36 months      6.49   \n",
       "11    16000.0      16000.0          16000.0   60 months     12.88   \n",
       "12     1400.0       1400.0           1400.0   36 months     12.88   \n",
       "13    18000.0      18000.0          18000.0   60 months     19.48   \n",
       "\n",
       "    installment grade sub_grade emp_length home_ownership  ...  \\\n",
       "4        289.91     F        F1    3 years       MORTGAGE  ...   \n",
       "8        306.45     A        A2    6 years           RENT  ...   \n",
       "11       363.07     C        C2     1 year       MORTGAGE  ...   \n",
       "12        47.10     C        C2    3 years       MORTGAGE  ...   \n",
       "13       471.70     E        E2    7 years           RENT  ...   \n",
       "\n",
       "    percent_bc_gt_75 pub_rec_bankruptcies tax_liens tot_hi_cred_lim  \\\n",
       "4               60.0                  0.0       0.0        439570.0   \n",
       "8               28.6                  1.0       0.0         61099.0   \n",
       "11              60.0                  0.0       0.0        309638.0   \n",
       "12              75.0                  0.0       0.0        372109.0   \n",
       "13              14.3                  1.0       0.0         65819.0   \n",
       "\n",
       "   total_bal_ex_mort total_bc_limit total_il_high_credit_limit  hardship_flag  \\\n",
       "4            95768.0        20300.0                    88097.0              N   \n",
       "8            27957.0        16400.0                    30799.0              N   \n",
       "11           62407.0        45900.0                    45838.0              N   \n",
       "12           75258.0        34500.0                    55501.0              N   \n",
       "13           36247.0        10300.0                    31319.0              N   \n",
       "\n",
       "    disbursement_method debt_settlement_flag  \n",
       "4                  Cash                    N  \n",
       "8                  Cash                    N  \n",
       "11                 Cash                    N  \n",
       "12                 Cash                    N  \n",
       "13                 Cash                    N  \n",
       "\n",
       "[5 rows x 101 columns]"
      ]
     },
     "execution_count": 18,
     "metadata": {},
     "output_type": "execute_result"
    }
   ],
   "source": [
    "df_accepted.head()"
   ]
  },
  {
   "cell_type": "markdown",
   "metadata": {},
   "source": [
    "### Imputing categorical data\n",
    "- Going to start off with SimpleImputer.\n",
    "- Change later to more complex and specific imputers."
   ]
  },
  {
   "cell_type": "code",
   "execution_count": 19,
   "metadata": {},
   "outputs": [
    {
     "name": "stdout",
     "output_type": "stream",
     "text": [
      "['term', 'grade', 'sub_grade', 'emp_length', 'home_ownership', 'verification_status', 'loan_status', 'pymnt_plan', 'purpose', 'addr_state', 'initial_list_status', 'application_type', 'hardship_flag', 'disbursement_method', 'debt_settlement_flag']\n"
     ]
    }
   ],
   "source": [
    "print(category_columns)"
   ]
  },
  {
   "cell_type": "code",
   "execution_count": null,
   "metadata": {},
   "outputs": [],
   "source": [
    "df_accepted.info(verbose=True, show_counts=True)"
   ]
  },
  {
   "cell_type": "code",
   "execution_count": 21,
   "metadata": {},
   "outputs": [],
   "source": [
    "# Impute categorical data using mode\n",
    "imputer = SimpleImputer(strategy='most_frequent')\n",
    "df_accepted[category_columns] = imputer.fit_transform(df_accepted[category_columns])"
   ]
  },
  {
   "cell_type": "markdown",
   "metadata": {},
   "source": [
    "### Imputing numerical data\n",
    "*Lets breakdown each numerical column and make a decision on what imputation strategy would be best:*\n",
    "\n",
    "- `loan_amnt`: drop. Too important not to have and the number of rows without this amount is small.\n",
    "- `funded_amnt`: "
   ]
  },
  {
   "cell_type": "code",
   "execution_count": 25,
   "metadata": {},
   "outputs": [
    {
     "name": "stdout",
     "output_type": "stream",
     "text": [
      "['loan_amnt', 'funded_amnt', 'funded_amnt_inv', 'term', 'int_rate', 'installment', 'grade', 'sub_grade', 'emp_length', 'home_ownership', 'annual_inc', 'verification_status', 'issue_d', 'loan_status', 'pymnt_plan', 'purpose', 'addr_state', 'dti', 'delinq_2yrs', 'earliest_cr_line', 'fico_range_low', 'fico_range_high', 'inq_last_6mths', 'open_acc', 'pub_rec', 'revol_bal', 'revol_util', 'total_acc', 'initial_list_status', 'out_prncp', 'out_prncp_inv', 'total_pymnt', 'total_pymnt_inv', 'total_rec_prncp', 'total_rec_int', 'total_rec_late_fee', 'recoveries', 'collection_recovery_fee', 'last_pymnt_d', 'last_pymnt_amnt', 'last_credit_pull_d', 'last_fico_range_high', 'last_fico_range_low', 'collections_12_mths_ex_med', 'application_type', 'acc_now_delinq', 'tot_coll_amt', 'tot_cur_bal', 'open_acc_6m', 'open_act_il', 'open_il_12m', 'open_il_24m', 'mths_since_rcnt_il', 'total_bal_il', 'il_util', 'open_rv_12m', 'open_rv_24m', 'max_bal_bc', 'all_util', 'total_rev_hi_lim', 'inq_fi', 'total_cu_tl', 'inq_last_12m', 'acc_open_past_24mths', 'avg_cur_bal', 'bc_open_to_buy', 'bc_util', 'chargeoff_within_12_mths', 'delinq_amnt', 'mo_sin_old_il_acct', 'mo_sin_old_rev_tl_op', 'mo_sin_rcnt_rev_tl_op', 'mo_sin_rcnt_tl', 'mort_acc', 'mths_since_recent_bc', 'mths_since_recent_inq', 'num_accts_ever_120_pd', 'num_actv_bc_tl', 'num_actv_rev_tl', 'num_bc_sats', 'num_bc_tl', 'num_il_tl', 'num_op_rev_tl', 'num_rev_accts', 'num_rev_tl_bal_gt_0', 'num_sats', 'num_tl_120dpd_2m', 'num_tl_30dpd', 'num_tl_90g_dpd_24m', 'num_tl_op_past_12m', 'pct_tl_nvr_dlq', 'percent_bc_gt_75', 'pub_rec_bankruptcies', 'tax_liens', 'tot_hi_cred_lim', 'total_bal_ex_mort', 'total_bc_limit', 'total_il_high_credit_limit', 'hardship_flag', 'disbursement_method', 'debt_settlement_flag']\n"
     ]
    }
   ],
   "source": [
    "print(list(df_accepted.columns))\n"
   ]
  },
  {
   "cell_type": "code",
   "execution_count": 28,
   "metadata": {},
   "outputs": [],
   "source": [
    "numerical_columns = utility.get_numerical_columns(df_accepted)\n",
    "columns_for_grouping_and_median = numerical_columns + ['loan_status']\n",
    "imputer = nd.NumericDataImputer(group_column='loan_status')\n",
    "imputer.fit(df_accepted[columns_for_grouping_and_median])\n",
    "df_accepted[columns_for_grouping_and_median] = imputer.transform(df_accepted[columns_for_grouping_and_median])"
   ]
  },
  {
   "cell_type": "code",
   "execution_count": 30,
   "metadata": {},
   "outputs": [
    {
     "name": "stdout",
     "output_type": "stream",
     "text": [
      "['loan_amnt', 'funded_amnt', 'funded_amnt_inv', 'int_rate', 'installment', 'annual_inc', 'dti', 'delinq_2yrs', 'fico_range_low', 'fico_range_high', 'inq_last_6mths', 'open_acc', 'pub_rec', 'revol_bal', 'revol_util', 'total_acc', 'out_prncp', 'out_prncp_inv', 'total_pymnt', 'total_pymnt_inv', 'total_rec_prncp', 'total_rec_int', 'total_rec_late_fee', 'recoveries', 'collection_recovery_fee', 'last_pymnt_amnt', 'last_fico_range_high', 'last_fico_range_low', 'collections_12_mths_ex_med', 'acc_now_delinq', 'tot_coll_amt', 'tot_cur_bal', 'open_acc_6m', 'open_act_il', 'open_il_12m', 'open_il_24m', 'mths_since_rcnt_il', 'total_bal_il', 'il_util', 'open_rv_12m', 'open_rv_24m', 'max_bal_bc', 'all_util', 'total_rev_hi_lim', 'inq_fi', 'total_cu_tl', 'inq_last_12m', 'acc_open_past_24mths', 'avg_cur_bal', 'bc_open_to_buy', 'bc_util', 'chargeoff_within_12_mths', 'delinq_amnt', 'mo_sin_old_il_acct', 'mo_sin_old_rev_tl_op', 'mo_sin_rcnt_rev_tl_op', 'mo_sin_rcnt_tl', 'mort_acc', 'mths_since_recent_bc', 'mths_since_recent_inq', 'num_accts_ever_120_pd', 'num_actv_bc_tl', 'num_actv_rev_tl', 'num_bc_sats', 'num_bc_tl', 'num_il_tl', 'num_op_rev_tl', 'num_rev_accts', 'num_rev_tl_bal_gt_0', 'num_sats', 'num_tl_120dpd_2m', 'num_tl_30dpd', 'num_tl_90g_dpd_24m', 'num_tl_op_past_12m', 'pct_tl_nvr_dlq', 'percent_bc_gt_75', 'pub_rec_bankruptcies', 'tax_liens', 'tot_hi_cred_lim', 'total_bal_ex_mort', 'total_bc_limit', 'total_il_high_credit_limit']\n"
     ]
    }
   ],
   "source": [
    "print(numerical_columns)"
   ]
  },
  {
   "cell_type": "code",
   "execution_count": null,
   "metadata": {},
   "outputs": [],
   "source": [
    "df_accepted.info(verbose=True, show_counts=True)"
   ]
  },
  {
   "cell_type": "code",
   "execution_count": 35,
   "metadata": {},
   "outputs": [
    {
     "data": {
      "text/html": [
       "<div>\n",
       "<style scoped>\n",
       "    .dataframe tbody tr th:only-of-type {\n",
       "        vertical-align: middle;\n",
       "    }\n",
       "\n",
       "    .dataframe tbody tr th {\n",
       "        vertical-align: top;\n",
       "    }\n",
       "\n",
       "    .dataframe thead tr th {\n",
       "        text-align: left;\n",
       "    }\n",
       "\n",
       "    .dataframe thead tr:last-of-type th {\n",
       "        text-align: right;\n",
       "    }\n",
       "</style>\n",
       "<table border=\"1\" class=\"dataframe\">\n",
       "  <thead>\n",
       "    <tr>\n",
       "      <th></th>\n",
       "      <th colspan=\"8\" halign=\"left\">loan_amnt</th>\n",
       "      <th colspan=\"2\" halign=\"left\">funded_amnt</th>\n",
       "      <th>...</th>\n",
       "      <th colspan=\"2\" halign=\"left\">total_bc_limit</th>\n",
       "      <th colspan=\"8\" halign=\"left\">total_il_high_credit_limit</th>\n",
       "    </tr>\n",
       "    <tr>\n",
       "      <th></th>\n",
       "      <th>count</th>\n",
       "      <th>mean</th>\n",
       "      <th>min</th>\n",
       "      <th>25%</th>\n",
       "      <th>50%</th>\n",
       "      <th>75%</th>\n",
       "      <th>max</th>\n",
       "      <th>std</th>\n",
       "      <th>count</th>\n",
       "      <th>mean</th>\n",
       "      <th>...</th>\n",
       "      <th>max</th>\n",
       "      <th>std</th>\n",
       "      <th>count</th>\n",
       "      <th>mean</th>\n",
       "      <th>min</th>\n",
       "      <th>25%</th>\n",
       "      <th>50%</th>\n",
       "      <th>75%</th>\n",
       "      <th>max</th>\n",
       "      <th>std</th>\n",
       "    </tr>\n",
       "    <tr>\n",
       "      <th>loan_status</th>\n",
       "      <th></th>\n",
       "      <th></th>\n",
       "      <th></th>\n",
       "      <th></th>\n",
       "      <th></th>\n",
       "      <th></th>\n",
       "      <th></th>\n",
       "      <th></th>\n",
       "      <th></th>\n",
       "      <th></th>\n",
       "      <th></th>\n",
       "      <th></th>\n",
       "      <th></th>\n",
       "      <th></th>\n",
       "      <th></th>\n",
       "      <th></th>\n",
       "      <th></th>\n",
       "      <th></th>\n",
       "      <th></th>\n",
       "      <th></th>\n",
       "      <th></th>\n",
       "    </tr>\n",
       "  </thead>\n",
       "  <tbody>\n",
       "    <tr>\n",
       "      <th>Charged Off</th>\n",
       "      <td>78289.0</td>\n",
       "      <td>12713.151592</td>\n",
       "      <td>900.0</td>\n",
       "      <td>7550.0</td>\n",
       "      <td>12000.0</td>\n",
       "      <td>16500.0</td>\n",
       "      <td>40000.0</td>\n",
       "      <td>6939.976152</td>\n",
       "      <td>78289.0</td>\n",
       "      <td>12700.258657</td>\n",
       "      <td>...</td>\n",
       "      <td>92000.0</td>\n",
       "      <td>12620.845246</td>\n",
       "      <td>78289.0</td>\n",
       "      <td>33875.066817</td>\n",
       "      <td>0.0</td>\n",
       "      <td>14364.00</td>\n",
       "      <td>27906.0</td>\n",
       "      <td>45915.0</td>\n",
       "      <td>178721.0</td>\n",
       "      <td>28595.711849</td>\n",
       "    </tr>\n",
       "    <tr>\n",
       "      <th>Current</th>\n",
       "      <td>298986.0</td>\n",
       "      <td>13134.104356</td>\n",
       "      <td>1000.0</td>\n",
       "      <td>7225.0</td>\n",
       "      <td>12000.0</td>\n",
       "      <td>18000.0</td>\n",
       "      <td>40000.0</td>\n",
       "      <td>7518.606230</td>\n",
       "      <td>298986.0</td>\n",
       "      <td>13134.077599</td>\n",
       "      <td>...</td>\n",
       "      <td>92200.0</td>\n",
       "      <td>15758.571616</td>\n",
       "      <td>298986.0</td>\n",
       "      <td>36230.208618</td>\n",
       "      <td>0.0</td>\n",
       "      <td>13500.00</td>\n",
       "      <td>29309.0</td>\n",
       "      <td>51000.0</td>\n",
       "      <td>178932.0</td>\n",
       "      <td>31326.761311</td>\n",
       "    </tr>\n",
       "    <tr>\n",
       "      <th>Default</th>\n",
       "      <td>10.0</td>\n",
       "      <td>10775.000000</td>\n",
       "      <td>4000.0</td>\n",
       "      <td>8100.0</td>\n",
       "      <td>9500.0</td>\n",
       "      <td>11737.5</td>\n",
       "      <td>25000.0</td>\n",
       "      <td>5903.071235</td>\n",
       "      <td>10.0</td>\n",
       "      <td>10775.000000</td>\n",
       "      <td>...</td>\n",
       "      <td>39600.0</td>\n",
       "      <td>13717.308612</td>\n",
       "      <td>10.0</td>\n",
       "      <td>16519.600000</td>\n",
       "      <td>0.0</td>\n",
       "      <td>3600.00</td>\n",
       "      <td>13529.5</td>\n",
       "      <td>29480.0</td>\n",
       "      <td>38180.0</td>\n",
       "      <td>14999.562491</td>\n",
       "    </tr>\n",
       "    <tr>\n",
       "      <th>Does not meet the credit policy. Status:Charged Off</th>\n",
       "      <td>88.0</td>\n",
       "      <td>6992.045455</td>\n",
       "      <td>600.0</td>\n",
       "      <td>2750.0</td>\n",
       "      <td>5250.0</td>\n",
       "      <td>10000.0</td>\n",
       "      <td>25000.0</td>\n",
       "      <td>5524.733500</td>\n",
       "      <td>88.0</td>\n",
       "      <td>6620.738636</td>\n",
       "      <td>...</td>\n",
       "      <td>NaN</td>\n",
       "      <td>NaN</td>\n",
       "      <td>0.0</td>\n",
       "      <td>NaN</td>\n",
       "      <td>NaN</td>\n",
       "      <td>NaN</td>\n",
       "      <td>NaN</td>\n",
       "      <td>NaN</td>\n",
       "      <td>NaN</td>\n",
       "      <td>NaN</td>\n",
       "    </tr>\n",
       "    <tr>\n",
       "      <th>Does not meet the credit policy. Status:Fully Paid</th>\n",
       "      <td>291.0</td>\n",
       "      <td>7111.340206</td>\n",
       "      <td>500.0</td>\n",
       "      <td>3500.0</td>\n",
       "      <td>6000.0</td>\n",
       "      <td>10000.0</td>\n",
       "      <td>25000.0</td>\n",
       "      <td>4848.159116</td>\n",
       "      <td>291.0</td>\n",
       "      <td>6913.487973</td>\n",
       "      <td>...</td>\n",
       "      <td>NaN</td>\n",
       "      <td>NaN</td>\n",
       "      <td>0.0</td>\n",
       "      <td>NaN</td>\n",
       "      <td>NaN</td>\n",
       "      <td>NaN</td>\n",
       "      <td>NaN</td>\n",
       "      <td>NaN</td>\n",
       "      <td>NaN</td>\n",
       "      <td>NaN</td>\n",
       "    </tr>\n",
       "    <tr>\n",
       "      <th>Fully Paid</th>\n",
       "      <td>412203.0</td>\n",
       "      <td>11813.128968</td>\n",
       "      <td>500.0</td>\n",
       "      <td>6600.0</td>\n",
       "      <td>10000.0</td>\n",
       "      <td>16000.0</td>\n",
       "      <td>35000.0</td>\n",
       "      <td>6565.459704</td>\n",
       "      <td>412203.0</td>\n",
       "      <td>11801.433517</td>\n",
       "      <td>...</td>\n",
       "      <td>92200.0</td>\n",
       "      <td>14328.165074</td>\n",
       "      <td>412203.0</td>\n",
       "      <td>34387.569004</td>\n",
       "      <td>0.0</td>\n",
       "      <td>14544.50</td>\n",
       "      <td>28316.0</td>\n",
       "      <td>46666.0</td>\n",
       "      <td>178939.0</td>\n",
       "      <td>29229.807880</td>\n",
       "    </tr>\n",
       "    <tr>\n",
       "      <th>In Grace Period</th>\n",
       "      <td>2319.0</td>\n",
       "      <td>14265.146615</td>\n",
       "      <td>1000.0</td>\n",
       "      <td>9000.0</td>\n",
       "      <td>13000.0</td>\n",
       "      <td>20000.0</td>\n",
       "      <td>36000.0</td>\n",
       "      <td>7379.867943</td>\n",
       "      <td>2319.0</td>\n",
       "      <td>14265.146615</td>\n",
       "      <td>...</td>\n",
       "      <td>85900.0</td>\n",
       "      <td>13868.001763</td>\n",
       "      <td>2319.0</td>\n",
       "      <td>37161.794739</td>\n",
       "      <td>0.0</td>\n",
       "      <td>15149.50</td>\n",
       "      <td>30576.0</td>\n",
       "      <td>51099.0</td>\n",
       "      <td>178684.0</td>\n",
       "      <td>30942.744810</td>\n",
       "    </tr>\n",
       "    <tr>\n",
       "      <th>Late (16-30 days)</th>\n",
       "      <td>1246.0</td>\n",
       "      <td>13543.218299</td>\n",
       "      <td>1000.0</td>\n",
       "      <td>8000.0</td>\n",
       "      <td>12000.0</td>\n",
       "      <td>18000.0</td>\n",
       "      <td>40000.0</td>\n",
       "      <td>7568.756268</td>\n",
       "      <td>1246.0</td>\n",
       "      <td>13543.218299</td>\n",
       "      <td>...</td>\n",
       "      <td>85400.0</td>\n",
       "      <td>13888.321068</td>\n",
       "      <td>1246.0</td>\n",
       "      <td>34288.683788</td>\n",
       "      <td>0.0</td>\n",
       "      <td>12128.25</td>\n",
       "      <td>27219.0</td>\n",
       "      <td>50082.0</td>\n",
       "      <td>162268.0</td>\n",
       "      <td>30065.821876</td>\n",
       "    </tr>\n",
       "    <tr>\n",
       "      <th>Late (31-120 days)</th>\n",
       "      <td>6159.0</td>\n",
       "      <td>13661.771391</td>\n",
       "      <td>1000.0</td>\n",
       "      <td>8000.0</td>\n",
       "      <td>12000.0</td>\n",
       "      <td>19200.0</td>\n",
       "      <td>40000.0</td>\n",
       "      <td>7355.165324</td>\n",
       "      <td>6159.0</td>\n",
       "      <td>13661.771391</td>\n",
       "      <td>...</td>\n",
       "      <td>89900.0</td>\n",
       "      <td>13849.654756</td>\n",
       "      <td>6159.0</td>\n",
       "      <td>35327.576068</td>\n",
       "      <td>0.0</td>\n",
       "      <td>13703.00</td>\n",
       "      <td>29096.0</td>\n",
       "      <td>49234.0</td>\n",
       "      <td>178349.0</td>\n",
       "      <td>30273.402517</td>\n",
       "    </tr>\n",
       "  </tbody>\n",
       "</table>\n",
       "<p>9 rows × 688 columns</p>\n",
       "</div>"
      ],
      "text/plain": [
       "                                                   loan_amnt                \\\n",
       "                                                       count          mean   \n",
       "loan_status                                                                  \n",
       "Charged Off                                          78289.0  12713.151592   \n",
       "Current                                             298986.0  13134.104356   \n",
       "Default                                                 10.0  10775.000000   \n",
       "Does not meet the credit policy. Status:Charged...      88.0   6992.045455   \n",
       "Does not meet the credit policy. Status:Fully Paid     291.0   7111.340206   \n",
       "Fully Paid                                          412203.0  11813.128968   \n",
       "In Grace Period                                       2319.0  14265.146615   \n",
       "Late (16-30 days)                                     1246.0  13543.218299   \n",
       "Late (31-120 days)                                    6159.0  13661.771391   \n",
       "\n",
       "                                                                             \\\n",
       "                                                       min     25%      50%   \n",
       "loan_status                                                                   \n",
       "Charged Off                                          900.0  7550.0  12000.0   \n",
       "Current                                             1000.0  7225.0  12000.0   \n",
       "Default                                             4000.0  8100.0   9500.0   \n",
       "Does not meet the credit policy. Status:Charged...   600.0  2750.0   5250.0   \n",
       "Does not meet the credit policy. Status:Fully Paid   500.0  3500.0   6000.0   \n",
       "Fully Paid                                           500.0  6600.0  10000.0   \n",
       "In Grace Period                                     1000.0  9000.0  13000.0   \n",
       "Late (16-30 days)                                   1000.0  8000.0  12000.0   \n",
       "Late (31-120 days)                                  1000.0  8000.0  12000.0   \n",
       "\n",
       "                                                                      \\\n",
       "                                                        75%      max   \n",
       "loan_status                                                            \n",
       "Charged Off                                         16500.0  40000.0   \n",
       "Current                                             18000.0  40000.0   \n",
       "Default                                             11737.5  25000.0   \n",
       "Does not meet the credit policy. Status:Charged...  10000.0  25000.0   \n",
       "Does not meet the credit policy. Status:Fully Paid  10000.0  25000.0   \n",
       "Fully Paid                                          16000.0  35000.0   \n",
       "In Grace Period                                     20000.0  36000.0   \n",
       "Late (16-30 days)                                   18000.0  40000.0   \n",
       "Late (31-120 days)                                  19200.0  40000.0   \n",
       "\n",
       "                                                                funded_amnt  \\\n",
       "                                                            std       count   \n",
       "loan_status                                                                   \n",
       "Charged Off                                         6939.976152     78289.0   \n",
       "Current                                             7518.606230    298986.0   \n",
       "Default                                             5903.071235        10.0   \n",
       "Does not meet the credit policy. Status:Charged...  5524.733500        88.0   \n",
       "Does not meet the credit policy. Status:Fully Paid  4848.159116       291.0   \n",
       "Fully Paid                                          6565.459704    412203.0   \n",
       "In Grace Period                                     7379.867943      2319.0   \n",
       "Late (16-30 days)                                   7568.756268      1246.0   \n",
       "Late (31-120 days)                                  7355.165324      6159.0   \n",
       "\n",
       "                                                                  ...  \\\n",
       "                                                            mean  ...   \n",
       "loan_status                                                       ...   \n",
       "Charged Off                                         12700.258657  ...   \n",
       "Current                                             13134.077599  ...   \n",
       "Default                                             10775.000000  ...   \n",
       "Does not meet the credit policy. Status:Charged...   6620.738636  ...   \n",
       "Does not meet the credit policy. Status:Fully Paid   6913.487973  ...   \n",
       "Fully Paid                                          11801.433517  ...   \n",
       "In Grace Period                                     14265.146615  ...   \n",
       "Late (16-30 days)                                   13543.218299  ...   \n",
       "Late (31-120 days)                                  13661.771391  ...   \n",
       "\n",
       "                                                   total_bc_limit  \\\n",
       "                                                              max   \n",
       "loan_status                                                         \n",
       "Charged Off                                               92000.0   \n",
       "Current                                                   92200.0   \n",
       "Default                                                   39600.0   \n",
       "Does not meet the credit policy. Status:Charged...            NaN   \n",
       "Does not meet the credit policy. Status:Fully Paid            NaN   \n",
       "Fully Paid                                                92200.0   \n",
       "In Grace Period                                           85900.0   \n",
       "Late (16-30 days)                                         85400.0   \n",
       "Late (31-120 days)                                        89900.0   \n",
       "\n",
       "                                                                  \\\n",
       "                                                             std   \n",
       "loan_status                                                        \n",
       "Charged Off                                         12620.845246   \n",
       "Current                                             15758.571616   \n",
       "Default                                             13717.308612   \n",
       "Does not meet the credit policy. Status:Charged...           NaN   \n",
       "Does not meet the credit policy. Status:Fully Paid           NaN   \n",
       "Fully Paid                                          14328.165074   \n",
       "In Grace Period                                     13868.001763   \n",
       "Late (16-30 days)                                   13888.321068   \n",
       "Late (31-120 days)                                  13849.654756   \n",
       "\n",
       "                                                   total_il_high_credit_limit  \\\n",
       "                                                                        count   \n",
       "loan_status                                                                     \n",
       "Charged Off                                                           78289.0   \n",
       "Current                                                              298986.0   \n",
       "Default                                                                  10.0   \n",
       "Does not meet the credit policy. Status:Charged...                        0.0   \n",
       "Does not meet the credit policy. Status:Fully Paid                        0.0   \n",
       "Fully Paid                                                           412203.0   \n",
       "In Grace Period                                                        2319.0   \n",
       "Late (16-30 days)                                                      1246.0   \n",
       "Late (31-120 days)                                                     6159.0   \n",
       "\n",
       "                                                                       \\\n",
       "                                                            mean  min   \n",
       "loan_status                                                             \n",
       "Charged Off                                         33875.066817  0.0   \n",
       "Current                                             36230.208618  0.0   \n",
       "Default                                             16519.600000  0.0   \n",
       "Does not meet the credit policy. Status:Charged...           NaN  NaN   \n",
       "Does not meet the credit policy. Status:Fully Paid           NaN  NaN   \n",
       "Fully Paid                                          34387.569004  0.0   \n",
       "In Grace Period                                     37161.794739  0.0   \n",
       "Late (16-30 days)                                   34288.683788  0.0   \n",
       "Late (31-120 days)                                  35327.576068  0.0   \n",
       "\n",
       "                                                                       \\\n",
       "                                                         25%      50%   \n",
       "loan_status                                                             \n",
       "Charged Off                                         14364.00  27906.0   \n",
       "Current                                             13500.00  29309.0   \n",
       "Default                                              3600.00  13529.5   \n",
       "Does not meet the credit policy. Status:Charged...       NaN      NaN   \n",
       "Does not meet the credit policy. Status:Fully Paid       NaN      NaN   \n",
       "Fully Paid                                          14544.50  28316.0   \n",
       "In Grace Period                                     15149.50  30576.0   \n",
       "Late (16-30 days)                                   12128.25  27219.0   \n",
       "Late (31-120 days)                                  13703.00  29096.0   \n",
       "\n",
       "                                                                       \\\n",
       "                                                        75%       max   \n",
       "loan_status                                                             \n",
       "Charged Off                                         45915.0  178721.0   \n",
       "Current                                             51000.0  178932.0   \n",
       "Default                                             29480.0   38180.0   \n",
       "Does not meet the credit policy. Status:Charged...      NaN       NaN   \n",
       "Does not meet the credit policy. Status:Fully Paid      NaN       NaN   \n",
       "Fully Paid                                          46666.0  178939.0   \n",
       "In Grace Period                                     51099.0  178684.0   \n",
       "Late (16-30 days)                                   50082.0  162268.0   \n",
       "Late (31-120 days)                                  49234.0  178349.0   \n",
       "\n",
       "                                                                  \n",
       "                                                             std  \n",
       "loan_status                                                       \n",
       "Charged Off                                         28595.711849  \n",
       "Current                                             31326.761311  \n",
       "Default                                             14999.562491  \n",
       "Does not meet the credit policy. Status:Charged...           NaN  \n",
       "Does not meet the credit policy. Status:Fully Paid           NaN  \n",
       "Fully Paid                                          29229.807880  \n",
       "In Grace Period                                     30942.744810  \n",
       "Late (16-30 days)                                   30065.821876  \n",
       "Late (31-120 days)                                  30273.402517  \n",
       "\n",
       "[9 rows x 688 columns]"
      ]
     },
     "execution_count": 35,
     "metadata": {},
     "output_type": "execute_result"
    }
   ],
   "source": [
    "# There are still some missing values and that's because some groups had no data for certain columns\n",
    "df_accepted.groupby('loan_status').describe()"
   ]
  },
  {
   "cell_type": "code",
   "execution_count": 36,
   "metadata": {},
   "outputs": [],
   "source": [
    "# Drop them\n",
    "df_accepted = df_accepted.dropna()"
   ]
  },
  {
   "cell_type": "code",
   "execution_count": null,
   "metadata": {},
   "outputs": [],
   "source": [
    "df_accepted.info(verbose=True, show_counts=True)"
   ]
  },
  {
   "cell_type": "code",
   "execution_count": 38,
   "metadata": {},
   "outputs": [],
   "source": [
    "# Save a copy of pre-engineered features\n",
    "pre_fe_df_accepted = df_accepted.copy(deep=True)"
   ]
  },
  {
   "cell_type": "markdown",
   "metadata": {},
   "source": [
    "## Feature Engineering"
   ]
  },
  {
   "cell_type": "markdown",
   "metadata": {},
   "source": [
    "### Feature Engineering Dates Data"
   ]
  },
  {
   "cell_type": "code",
   "execution_count": null,
   "metadata": {},
   "outputs": [],
   "source": [
    "# Feature engineer credit history length and loan age\n",
    "collection_date = pd.to_datetime('2018-12-31')\n",
    "df_accepted['credit_history_length'] = (df_accepted['issue_d'] - df_accepted['earliest_cr_line']).dt.days / 365.25\n",
    "df_accepted['loan_age'] = (df_accepted['last_pymnt_d'] - df_accepted['issue_d']).dt.days / 30\n",
    "df_accepted['months_since_last_credit_pull'] = (collection_date - df_accepted['last_credit_pull_d']).dt.days / 30"
   ]
  },
  {
   "cell_type": "code",
   "execution_count": 47,
   "metadata": {},
   "outputs": [],
   "source": [
    "# Drop dates to reduce complexity\n",
    "df_accepted = df_accepted.drop(date_columns, axis=1)"
   ]
  },
  {
   "cell_type": "code",
   "execution_count": null,
   "metadata": {},
   "outputs": [],
   "source": [
    "df_accepted.info(verbose=True, show_counts=True)"
   ]
  },
  {
   "cell_type": "markdown",
   "metadata": {},
   "source": [
    "## Examine target variable"
   ]
  },
  {
   "cell_type": "code",
   "execution_count": 49,
   "metadata": {},
   "outputs": [],
   "source": [
    "df_accepted = utility.calculate_roi(df=df_accepted)"
   ]
  },
  {
   "cell_type": "code",
   "execution_count": 52,
   "metadata": {},
   "outputs": [
    {
     "data": {
      "image/png": "[encoded data removed]",
      "text/plain": [
       "<Figure size 640x480 with 1 Axes>"
      ]
     },
     "metadata": {},
     "output_type": "display_data"
    }
   ],
   "source": [
    "sns.histplot(data=df_accepted, x='ROI')\n",
    "plt.show()"
   ]
  },
  {
   "cell_type": "markdown",
   "metadata": {},
   "source": [
    "## Encode Categoroical Data\n",
    "- one-hot encode the following: term, grade, home_ownerhsip, verification_status, loan_status, pymnt_plan, purpose, initial_list_status, application_type, hardship_flag, disbursement_method, and debt_settlement_flag\n",
    "- encode addr_state: (one host encoding may not suitable since it will increase dimensionality)"
   ]
  },
  {
   "cell_type": "markdown",
   "metadata": {},
   "source": [
    "## Standardize Features\n",
    "##### Ensure our numerical features are standardized (mean of 0 and standard deviation of 1). This is important because Lasso applies the same penalty to all coefficients, so the scale of the features affects which features are selected. Use StandardScalar()."
   ]
  },
  {
   "cell_type": "markdown",
   "metadata": {},
   "source": [
    "## Apply Lasso Regression\n",
    "#### Use Lasso regression to fit our model. You may need to tune the regularization parameter (α) using cross-validation to find the optimal value that minimizes your loss function. Libraries like Scikit-learn provide convenient methods like LassoCV for this purpose. This will serve as the baseline (will compare XGBoost and Random Forest performace to this.)"
   ]
  },
  {
   "cell_type": "markdown",
   "metadata": {},
   "source": [
    "## Evaluate Feature Importance\n",
    "#### After fitting Lasso, evaluate the coefficients of our model. Features with non-zero coefficients are considered by Lasso as more important for predicting the target variable."
   ]
  },
  {
   "cell_type": "markdown",
   "metadata": {},
   "source": [
    "## Model Assessment\n",
    "#### Assess the performance of our model using appropriate metrics (e.g., R-squared) through cross-validation."
   ]
  },
  {
   "cell_type": "markdown",
   "metadata": {},
   "source": [
    "## Implement Random Forest"
   ]
  },
  {
   "cell_type": "markdown",
   "metadata": {},
   "source": [
    "## Implement XGBoost"
   ]
  }
 ],
 "metadata": {
  "kernelspec": {
   "display_name": "Python 3",
   "language": "python",
   "name": "python3"
  },
  "language_info": {
   "codemirror_mode": {
    "name": "ipython",
    "version": 3
   },
   "file_extension": ".py",
   "mimetype": "text/x-python",
   "name": "python",
   "nbconvert_exporter": "python",
   "pygments_lexer": "ipython3",
   "version": "3.11.4"
  }
 },
 "nbformat": 4,
 "nbformat_minor": 2
}
