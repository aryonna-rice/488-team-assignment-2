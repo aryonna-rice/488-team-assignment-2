{
 "cells": [
  {
   "cell_type": "markdown",
   "metadata": {},
   "source": [
    "# **Analysis for Team Assignment 2**"
   ]
  },
  {
   "cell_type": "code",
   "execution_count": 1,
   "metadata": {},
   "outputs": [],
   "source": [
    "import sys\n",
    "from pathlib import Path\n",
    "\n",
    "# Adjust the path below according to your project's structure\n",
    "# This should be the path to the directory containing 'notebooks' and 'utils'\n",
    "project_root = Path.cwd().parent  # If your notebook is directly inside the 'notebooks' directory\n",
    "if str(project_root) not in sys.path:\n",
    "    sys.path.append(str(project_root))"
   ]
  },
  {
   "cell_type": "code",
   "execution_count": 2,
   "metadata": {},
   "outputs": [],
   "source": [
    "%load_ext autoreload\n",
    "%autoreload 2"
   ]
  },
  {
   "cell_type": "code",
   "execution_count": 3,
   "metadata": {},
   "outputs": [],
   "source": [
    "import utils.utility as utility\n",
    "import imputers.latest_credit_pull_d as lcpd\n",
    "import imputers.earliest_cr_line_d as ecld\n",
    "import imputers.last_pymnt_d as lpd\n",
    "import imputers.numeric_data as nd\n",
    "\n",
    "# We first import a number of libraries that we will be using in today's class\n",
    "import pandas as pd\n",
    "import numpy as np\n",
    "\n",
    "# Plotting packages we'll use\n",
    "import matplotlib.pyplot as plt\n",
    "import seaborn as sns\n",
    "\n",
    "# Rather than importing the whole sklearn library, we will import only certain modules\n",
    "from sklearn.preprocessing import StandardScaler\n",
    "from sklearn import metrics, model_selection\n",
    "from sklearn.metrics import mean_squared_error, r2_score, accuracy_score, mean_absolute_error\n",
    "from sklearn.model_selection import GridSearchCV, train_test_split, RandomizedSearchCV, cross_val_score\n",
    "from sklearn.linear_model import LinearRegression, Ridge, Lasso, RidgeCV\n",
    "\n",
    "from sklearn.preprocessing import OneHotEncoder, StandardScaler, OrdinalEncoder\n",
    "from sklearn.impute import SimpleImputer\n",
    "from sklearn.compose import ColumnTransformer\n",
    "from sklearn.pipeline import Pipeline\n",
    "from sklearn.decomposition import PCA\n",
    "from sklearn.ensemble import RandomForestRegressor\n"
   ]
  },
  {
   "cell_type": "markdown",
   "metadata": {},
   "source": [
    "## *Importing Data*"
   ]
  },
  {
   "cell_type": "code",
   "execution_count": 4,
   "metadata": {},
   "outputs": [],
   "source": [
    "path_to_rejected = '../data/LendingClub/rejected_2007_to_2018Q4.csv'\n",
    "path_to_accepted = '../data/LendingClub/accepted_2007_to_2018Q4.csv'"
   ]
  },
  {
   "cell_type": "markdown",
   "metadata": {},
   "source": [
    "## *Read rejected and accpeted data into two seperate dataframes*"
   ]
  },
  {
   "cell_type": "code",
   "execution_count": 5,
   "metadata": {},
   "outputs": [
    {
     "name": "stderr",
     "output_type": "stream",
     "text": [
      "/var/folders/y4/6g9kvk5j1nl_xnqtxdrs3s180000gn/T/ipykernel_61783/590074522.py:3: DtypeWarning: Columns (0,19,49,59,118,129,130,131,134,135,136,139,145,146,147) have mixed types. Specify dtype option on import or set low_memory=False.\n",
      "  df_accepted = pd.read_csv(path_to_accepted)\n"
     ]
    }
   ],
   "source": [
    "# Create DFs. \n",
    "#df_rejected = pd.read_csv(path_to_rejected)\n",
    "df_accepted = pd.read_csv(path_to_accepted)\n"
   ]
  },
  {
   "cell_type": "code",
   "execution_count": null,
   "metadata": {},
   "outputs": [],
   "source": [
    "# Check rows and columns\n",
    "print(df_accepted.shape)\n",
    "#print(df_rejected.shape)\n",
    "# 3. output first 5 observations\n",
    "#df_rejected.head()\n",
    "df_accepted.head()"
   ]
  },
  {
   "cell_type": "markdown",
   "metadata": {},
   "source": [
    "## *Examine features* "
   ]
  },
  {
   "cell_type": "code",
   "execution_count": null,
   "metadata": {},
   "outputs": [],
   "source": [
    "df_accepted.info(verbose=True, show_counts=True)\n",
    "#df_rejected.info(verbose=True, show_counts=True)\n"
   ]
  },
  {
   "cell_type": "markdown",
   "metadata": {},
   "source": [
    "## *Droping columns*"
   ]
  },
  {
   "cell_type": "markdown",
   "metadata": {},
   "source": [
    "### *Dropping irrelevant columns*"
   ]
  },
  {
   "cell_type": "code",
   "execution_count": 6,
   "metadata": {},
   "outputs": [],
   "source": [
    "# Get positions of irrelevant columns\n",
    "rejected_positions_to_drop = [2, 8]\n",
    "accepted_positions_to_drop = [0, 1, 18, 19, 55, 21, 10, 22]\n",
    "\n",
    "# Get the column names based on their positions\n",
    "#rejected_columns_to_drop = df_rejected.columns[rejected_positions_to_drop]\n",
    "accepted_columns_to_drop = df_accepted.columns[accepted_positions_to_drop]\n",
    "\n",
    "# Drop irrelevant columns\n",
    "#df_rejected = df_rejected.drop(rejected_columns_to_drop, axis=1)\n",
    "df_accepted = df_accepted.drop(accepted_columns_to_drop, axis=1)\n"
   ]
  },
  {
   "cell_type": "markdown",
   "metadata": {},
   "source": [
    "### *Dropping columns with a high null count*"
   ]
  },
  {
   "cell_type": "code",
   "execution_count": 7,
   "metadata": {},
   "outputs": [],
   "source": [
    "# Drop where the null count is greater than or equal to 50% of samples.\n",
    "df_accepted = utility.drop_null_columns(df_accepted)\n",
    "#df_rejected = utility.drop_null_columns(df_rejected)"
   ]
  },
  {
   "cell_type": "code",
   "execution_count": null,
   "metadata": {},
   "outputs": [],
   "source": [
    "# Check rows and columns\n",
    "print(df_accepted.shape)\n",
    "##print(df_rejected.shape)"
   ]
  },
  {
   "cell_type": "code",
   "execution_count": null,
   "metadata": {},
   "outputs": [],
   "source": [
    "print(list(df_accepted.columns))"
   ]
  },
  {
   "cell_type": "markdown",
   "metadata": {},
   "source": [
    "## Drop outliers"
   ]
  },
  {
   "cell_type": "code",
   "execution_count": 8,
   "metadata": {},
   "outputs": [],
   "source": [
    "df_accepted = utility.remove_outliers(df=df_accepted)"
   ]
  },
  {
   "cell_type": "markdown",
   "metadata": {},
   "source": [
    "### Examine data's distribution"
   ]
  },
  {
   "cell_type": "code",
   "execution_count": null,
   "metadata": {},
   "outputs": [],
   "source": [
    "# Get some summary statistics\n",
    "#df_rejected.describe()\n",
    "pd.set_option('display.max_columns', None)  # None means unlimited\n",
    "df_accepted.describe()"
   ]
  },
  {
   "cell_type": "code",
   "execution_count": 9,
   "metadata": {},
   "outputs": [
    {
     "name": "stdout",
     "output_type": "stream",
     "text": [
      "['loan_amnt', 'funded_amnt', 'funded_amnt_inv', 'int_rate', 'installment', 'fico_range_low', 'fico_range_high', 'open_acc', 'total_acc', 'total_pymnt', 'total_pymnt_inv', 'total_rec_prncp', 'last_fico_range_high', 'last_fico_range_low', 'il_util', 'open_rv_24m', 'acc_open_past_24mths', 'mo_sin_old_rev_tl_op', 'mths_since_recent_inq', 'num_actv_bc_tl', 'num_actv_rev_tl', 'num_bc_sats', 'num_bc_tl', 'num_op_rev_tl', 'num_rev_accts', 'num_rev_tl_bal_gt_0', 'num_sats', 'num_tl_op_past_12m']\n"
     ]
    }
   ],
   "source": [
    "# Get the columns with high skew values as these need to be fixed later\n",
    "skewed_columns = utility.get_high_skewed_columns(df=df_accepted)\n",
    "print(skewed_columns)"
   ]
  },
  {
   "cell_type": "code",
   "execution_count": null,
   "metadata": {},
   "outputs": [],
   "source": [
    "# Visualize numerical data for accepted data\n",
    "utility.visualize_numerical_variables(df_accepted)"
   ]
  },
  {
   "cell_type": "code",
   "execution_count": null,
   "metadata": {},
   "outputs": [],
   "source": [
    "# Visualize numerical data for rejected data\n",
    "#utility.visualize_numerical_variables(df_rejected)"
   ]
  },
  {
   "cell_type": "markdown",
   "metadata": {},
   "source": [
    "##  Imputing missing values "
   ]
  },
  {
   "cell_type": "markdown",
   "metadata": {},
   "source": [
    "### Imputing dates"
   ]
  },
  {
   "cell_type": "code",
   "execution_count": 10,
   "metadata": {},
   "outputs": [],
   "source": [
    "# Get a list of all columns that are dates \n",
    "potential_date_columns = utility.get_object_columns(df_accepted)"
   ]
  },
  {
   "cell_type": "code",
   "execution_count": 11,
   "metadata": {},
   "outputs": [],
   "source": [
    "# Display each object with its value count\n",
    "value_counts = utility.display_value_counts(df_accepted, potential_date_columns)\n",
    "#value_counts"
   ]
  },
  {
   "cell_type": "markdown",
   "metadata": {},
   "source": [
    "#### Observations from Value Counts\n",
    "*Upon looking at the value counts, the following observations were made:*\n",
    "\n",
    "- There are four dates: 'issue_d', 'earliest_cr_line', 'last_pymnt_d', 'last_credit_pull_d'\n",
    "- These values must be properly dealt with to be used in our analysis\n",
    "- issue_d: \n",
    "    - Can not be imputed. Drop all rows where loan_d is null\n",
    "- earliest_cr_line:\n",
    "    - Should be imputed based on\n"
   ]
  },
  {
   "cell_type": "code",
   "execution_count": 12,
   "metadata": {},
   "outputs": [],
   "source": [
    "# Drop all rows where issue_d is null\n",
    "df_accepted = df_accepted.dropna(subset=['issue_d'])"
   ]
  },
  {
   "cell_type": "code",
   "execution_count": 13,
   "metadata": {},
   "outputs": [],
   "source": [
    "# Type cast all date columns to date objects\n",
    "date_columns = ['issue_d', 'earliest_cr_line', 'last_pymnt_d', 'last_credit_pull_d']\n",
    "df_accepted = utility.to_datetime(df=df_accepted, columns=date_columns)"
   ]
  },
  {
   "cell_type": "code",
   "execution_count": 14,
   "metadata": {},
   "outputs": [],
   "source": [
    "# Impute missing dates\n",
    "ecld_imputer = ecld.EarliestCRLineDateImputer()\n",
    "ecld_imputer.fit(X=df_accepted)\n",
    "df_accepted = ecld_imputer.transform(X=df_accepted)\n",
    "\n",
    "lcpd_imputer = lcpd.LatestCreditPullDateImputer()\n",
    "lcpd_imputer.fit(X=df_accepted)\n",
    "df_accepted = lcpd_imputer.transform(X=df_accepted)\n",
    "\n",
    "lpd_imputer = lpd.LastPaymentDateImputer()\n",
    "lpd_imputer.fit(X=df_accepted)\n",
    "df_accepted = lpd_imputer.transform(X=df_accepted)"
   ]
  },
  {
   "cell_type": "markdown",
   "metadata": {},
   "source": [
    "### Categorical Data"
   ]
  },
  {
   "cell_type": "code",
   "execution_count": 15,
   "metadata": {},
   "outputs": [],
   "source": [
    "# Drop loan_status: Does not meet the credit policy. Status:Fully Paid, Does not meet the credit policy. Status:Charged Off,\n",
    "# emp_length: 10+ years, < 1 year\n",
    "df_accepted = df_accepted[(df_accepted.emp_length != '10+ years') &\n",
    "                          (df_accepted.emp_length != '< 1 year')]"
   ]
  },
  {
   "cell_type": "code",
   "execution_count": 16,
   "metadata": {},
   "outputs": [],
   "source": [
    "# Make the rest categorical \n",
    "category_columns = utility.get_object_columns(df=df_accepted)\n",
    "result_list = [item for item in category_columns if item not in date_columns]\n",
    "df_accepted = utility.to_categorical(df=df_accepted, columns=result_list)"
   ]
  },
  {
   "cell_type": "code",
   "execution_count": null,
   "metadata": {},
   "outputs": [],
   "source": [
    "df_accepted.head()"
   ]
  },
  {
   "cell_type": "markdown",
   "metadata": {},
   "source": [
    "### Imputing categorical data\n",
    "- Going to start off with SimpleImputer.\n",
    "- Change later to more complex and specific imputers."
   ]
  },
  {
   "cell_type": "code",
   "execution_count": null,
   "metadata": {},
   "outputs": [],
   "source": [
    "print(category_columns)"
   ]
  },
  {
   "cell_type": "code",
   "execution_count": 17,
   "metadata": {},
   "outputs": [
    {
     "name": "stdout",
     "output_type": "stream",
     "text": [
      "<class 'pandas.core.frame.DataFrame'>\n",
      "Index: 799591 entries, 4 to 2260697\n",
      "Data columns (total 101 columns):\n",
      " #    Column                      Non-Null Count   Dtype         \n",
      "---   ------                      --------------   -----         \n",
      " 0    loan_amnt                   799591 non-null  float64       \n",
      " 1    funded_amnt                 799591 non-null  float64       \n",
      " 2    funded_amnt_inv             799591 non-null  float64       \n",
      " 3    term                        799591 non-null  category      \n",
      " 4    int_rate                    799591 non-null  float64       \n",
      " 5    installment                 799591 non-null  float64       \n",
      " 6    grade                       799591 non-null  category      \n",
      " 7    sub_grade                   799591 non-null  category      \n",
      " 8    emp_length                  716610 non-null  category      \n",
      " 9    home_ownership              799591 non-null  category      \n",
      " 10   annual_inc                  799591 non-null  float64       \n",
      " 11   verification_status         799591 non-null  category      \n",
      " 12   issue_d                     799591 non-null  datetime64[ns]\n",
      " 13   loan_status                 799591 non-null  category      \n",
      " 14   pymnt_plan                  799591 non-null  category      \n",
      " 15   purpose                     799591 non-null  category      \n",
      " 16   addr_state                  799591 non-null  category      \n",
      " 17   dti                         798720 non-null  float64       \n",
      " 18   delinq_2yrs                 799584 non-null  float64       \n",
      " 19   earliest_cr_line            799591 non-null  datetime64[ns]\n",
      " 20   fico_range_low              799591 non-null  float64       \n",
      " 21   fico_range_high             799591 non-null  float64       \n",
      " 22   inq_last_6mths              799584 non-null  float64       \n",
      " 23   open_acc                    799584 non-null  float64       \n",
      " 24   pub_rec                     799584 non-null  float64       \n",
      " 25   revol_bal                   799591 non-null  float64       \n",
      " 26   revol_util                  799299 non-null  float64       \n",
      " 27   total_acc                   799584 non-null  float64       \n",
      " 28   initial_list_status         799591 non-null  category      \n",
      " 29   out_prncp                   799591 non-null  float64       \n",
      " 30   out_prncp_inv               799591 non-null  float64       \n",
      " 31   total_pymnt                 799591 non-null  float64       \n",
      " 32   total_pymnt_inv             799591 non-null  float64       \n",
      " 33   total_rec_prncp             799591 non-null  float64       \n",
      " 34   total_rec_int               799591 non-null  float64       \n",
      " 35   total_rec_late_fee          799591 non-null  float64       \n",
      " 36   recoveries                  799591 non-null  float64       \n",
      " 37   collection_recovery_fee     799591 non-null  float64       \n",
      " 38   last_pymnt_d                799591 non-null  datetime64[ns]\n",
      " 39   last_pymnt_amnt             799591 non-null  float64       \n",
      " 40   last_credit_pull_d          799591 non-null  datetime64[ns]\n",
      " 41   last_fico_range_high        799591 non-null  float64       \n",
      " 42   last_fico_range_low         799591 non-null  float64       \n",
      " 43   collections_12_mths_ex_med  799537 non-null  float64       \n",
      " 44   application_type            799591 non-null  category      \n",
      " 45   acc_now_delinq              799584 non-null  float64       \n",
      " 46   tot_coll_amt                760502 non-null  float64       \n",
      " 47   tot_cur_bal                 760502 non-null  float64       \n",
      " 48   open_acc_6m                 457890 non-null  float64       \n",
      " 49   open_act_il                 457890 non-null  float64       \n",
      " 50   open_il_12m                 457890 non-null  float64       \n",
      " 51   open_il_24m                 457890 non-null  float64       \n",
      " 52   mths_since_rcnt_il          437763 non-null  float64       \n",
      " 53   total_bal_il                457890 non-null  float64       \n",
      " 54   il_util                     394611 non-null  float64       \n",
      " 55   open_rv_12m                 457890 non-null  float64       \n",
      " 56   open_rv_24m                 457890 non-null  float64       \n",
      " 57   max_bal_bc                  457890 non-null  float64       \n",
      " 58   all_util                    457876 non-null  float64       \n",
      " 59   total_rev_hi_lim            760502 non-null  float64       \n",
      " 60   inq_fi                      457890 non-null  float64       \n",
      " 61   total_cu_tl                 457890 non-null  float64       \n",
      " 62   inq_last_12m                457890 non-null  float64       \n",
      " 63   acc_open_past_24mths        771328 non-null  float64       \n",
      " 64   avg_cur_bal                 760488 non-null  float64       \n",
      " 65   bc_open_to_buy              763836 non-null  float64       \n",
      " 66   bc_util                     763661 non-null  float64       \n",
      " 67   chargeoff_within_12_mths    799537 non-null  float64       \n",
      " 68   delinq_amnt                 799584 non-null  float64       \n",
      " 69   mo_sin_old_il_acct          728408 non-null  float64       \n",
      " 70   mo_sin_old_rev_tl_op        760501 non-null  float64       \n",
      " 71   mo_sin_rcnt_rev_tl_op       760501 non-null  float64       \n",
      " 72   mo_sin_rcnt_tl              760502 non-null  float64       \n",
      " 73   mort_acc                    771328 non-null  float64       \n",
      " 74   mths_since_recent_bc        764081 non-null  float64       \n",
      " 75   mths_since_recent_inq       685735 non-null  float64       \n",
      " 76   num_accts_ever_120_pd       760502 non-null  float64       \n",
      " 77   num_actv_bc_tl              760502 non-null  float64       \n",
      " 78   num_actv_rev_tl             760502 non-null  float64       \n",
      " 79   num_bc_sats                 766713 non-null  float64       \n",
      " 80   num_bc_tl                   760502 non-null  float64       \n",
      " 81   num_il_tl                   760502 non-null  float64       \n",
      " 82   num_op_rev_tl               760502 non-null  float64       \n",
      " 83   num_rev_accts               760501 non-null  float64       \n",
      " 84   num_rev_tl_bal_gt_0         760502 non-null  float64       \n",
      " 85   num_sats                    766713 non-null  float64       \n",
      " 86   num_tl_120dpd_2m            738485 non-null  float64       \n",
      " 87   num_tl_30dpd                760502 non-null  float64       \n",
      " 88   num_tl_90g_dpd_24m          760502 non-null  float64       \n",
      " 89   num_tl_op_past_12m          760502 non-null  float64       \n",
      " 90   pct_tl_nvr_dlq              760433 non-null  float64       \n",
      " 91   percent_bc_gt_75            763699 non-null  float64       \n",
      " 92   pub_rec_bankruptcies        799058 non-null  float64       \n",
      " 93   tax_liens                   799554 non-null  float64       \n",
      " 94   tot_hi_cred_lim             760502 non-null  float64       \n",
      " 95   total_bal_ex_mort           771328 non-null  float64       \n",
      " 96   total_bc_limit              771328 non-null  float64       \n",
      " 97   total_il_high_credit_limit  760502 non-null  float64       \n",
      " 98   hardship_flag               799591 non-null  category      \n",
      " 99   disbursement_method         799591 non-null  category      \n",
      " 100  debt_settlement_flag        799591 non-null  category      \n",
      "dtypes: category(15), datetime64[ns](4), float64(82)\n",
      "memory usage: 542.2 MB\n"
     ]
    }
   ],
   "source": [
    "df_accepted.info(verbose=True, show_counts=True)"
   ]
  },
  {
   "cell_type": "code",
   "execution_count": 18,
   "metadata": {},
   "outputs": [],
   "source": [
    "# Impute categorical data using mode\n",
    "imputer = SimpleImputer(strategy='most_frequent')\n",
    "df_accepted[category_columns] = imputer.fit_transform(df_accepted[category_columns])"
   ]
  },
  {
   "cell_type": "markdown",
   "metadata": {},
   "source": [
    "### Imputing numerical data\n",
    "*Lets breakdown each numerical column and make a decision on what imputation strategy would be best:*\n",
    "\n",
    "- `loan_amnt`: drop. Too important not to have and the number of rows without this amount is small.\n",
    "- `funded_amnt`: "
   ]
  },
  {
   "cell_type": "code",
   "execution_count": null,
   "metadata": {},
   "outputs": [],
   "source": [
    "print(list(df_accepted.columns))\n"
   ]
  },
  {
   "cell_type": "code",
   "execution_count": 19,
   "metadata": {},
   "outputs": [],
   "source": [
    "numerical_columns = utility.get_numerical_columns(df_accepted)\n",
    "columns_for_grouping_and_median = numerical_columns + ['loan_status']\n",
    "imputer = nd.NumericDataImputer(group_column='loan_status')\n",
    "imputer.fit(df_accepted[columns_for_grouping_and_median])\n",
    "df_accepted[columns_for_grouping_and_median] = imputer.transform(df_accepted[columns_for_grouping_and_median])"
   ]
  },
  {
   "cell_type": "code",
   "execution_count": null,
   "metadata": {},
   "outputs": [],
   "source": [
    "print(numerical_columns)"
   ]
  },
  {
   "cell_type": "code",
   "execution_count": null,
   "metadata": {},
   "outputs": [],
   "source": [
    "df_accepted.info(verbose=True, show_counts=True)"
   ]
  },
  {
   "cell_type": "code",
   "execution_count": null,
   "metadata": {},
   "outputs": [],
   "source": [
    "# There are still some missing values and that's because some groups had no data for certain columns\n",
    "df_accepted.groupby('loan_status').describe()"
   ]
  },
  {
   "cell_type": "code",
   "execution_count": 20,
   "metadata": {},
   "outputs": [],
   "source": [
    "# Drop them\n",
    "df_accepted = df_accepted.dropna()"
   ]
  },
  {
   "cell_type": "code",
   "execution_count": null,
   "metadata": {},
   "outputs": [],
   "source": [
    "df_accepted.info(verbose=True, show_counts=True)"
   ]
  },
  {
   "cell_type": "code",
   "execution_count": 21,
   "metadata": {},
   "outputs": [],
   "source": [
    "# Save a copy of pre-engineered features\n",
    "pre_fe_df_accepted = df_accepted.copy(deep=True)"
   ]
  },
  {
   "cell_type": "markdown",
   "metadata": {},
   "source": [
    "## Feature Engineering"
   ]
  },
  {
   "cell_type": "markdown",
   "metadata": {},
   "source": [
    "### Feature Engineering Dates Data"
   ]
  },
  {
   "cell_type": "code",
   "execution_count": 22,
   "metadata": {},
   "outputs": [
    {
     "name": "stderr",
     "output_type": "stream",
     "text": [
      "/var/folders/y4/6g9kvk5j1nl_xnqtxdrs3s180000gn/T/ipykernel_61783/4126883911.py:5: PerformanceWarning: DataFrame is highly fragmented.  This is usually the result of calling `frame.insert` many times, which has poor performance.  Consider joining all columns at once using pd.concat(axis=1) instead. To get a de-fragmented frame, use `newframe = frame.copy()`\n",
      "  df_accepted['months_since_last_credit_pull'] = (collection_date - df_accepted['last_credit_pull_d']).dt.days / 30\n"
     ]
    }
   ],
   "source": [
    "# Feature engineer credit history length and loan age\n",
    "collection_date = pd.to_datetime('2018-12-31')\n",
    "df_accepted['credit_history_length'] = (df_accepted['issue_d'] - df_accepted['earliest_cr_line']).dt.days / 365.25\n",
    "df_accepted['loan_age'] = (df_accepted['last_pymnt_d'] - df_accepted['issue_d']).dt.days / 30\n",
    "df_accepted['months_since_last_credit_pull'] = (collection_date - df_accepted['last_credit_pull_d']).dt.days / 30"
   ]
  },
  {
   "cell_type": "code",
   "execution_count": 23,
   "metadata": {},
   "outputs": [],
   "source": [
    "# Drop dates to reduce complexity\n",
    "df_accepted = df_accepted.drop(date_columns, axis=1)"
   ]
  },
  {
   "cell_type": "code",
   "execution_count": 24,
   "metadata": {},
   "outputs": [
    {
     "name": "stdout",
     "output_type": "stream",
     "text": [
      "<class 'pandas.core.frame.DataFrame'>\n",
      "Index: 799212 entries, 4 to 2260697\n",
      "Data columns (total 100 columns):\n",
      " #   Column                         Non-Null Count   Dtype  \n",
      "---  ------                         --------------   -----  \n",
      " 0   loan_amnt                      799212 non-null  float64\n",
      " 1   funded_amnt                    799212 non-null  float64\n",
      " 2   funded_amnt_inv                799212 non-null  float64\n",
      " 3   term                           799212 non-null  object \n",
      " 4   int_rate                       799212 non-null  float64\n",
      " 5   installment                    799212 non-null  float64\n",
      " 6   grade                          799212 non-null  object \n",
      " 7   sub_grade                      799212 non-null  object \n",
      " 8   emp_length                     799212 non-null  object \n",
      " 9   home_ownership                 799212 non-null  object \n",
      " 10  annual_inc                     799212 non-null  float64\n",
      " 11  verification_status            799212 non-null  object \n",
      " 12  loan_status                    799212 non-null  object \n",
      " 13  pymnt_plan                     799212 non-null  object \n",
      " 14  purpose                        799212 non-null  object \n",
      " 15  addr_state                     799212 non-null  object \n",
      " 16  dti                            799212 non-null  float64\n",
      " 17  delinq_2yrs                    799212 non-null  float64\n",
      " 18  fico_range_low                 799212 non-null  float64\n",
      " 19  fico_range_high                799212 non-null  float64\n",
      " 20  inq_last_6mths                 799212 non-null  float64\n",
      " 21  open_acc                       799212 non-null  float64\n",
      " 22  pub_rec                        799212 non-null  float64\n",
      " 23  revol_bal                      799212 non-null  float64\n",
      " 24  revol_util                     799212 non-null  float64\n",
      " 25  total_acc                      799212 non-null  float64\n",
      " 26  initial_list_status            799212 non-null  object \n",
      " 27  out_prncp                      799212 non-null  float64\n",
      " 28  out_prncp_inv                  799212 non-null  float64\n",
      " 29  total_pymnt                    799212 non-null  float64\n",
      " 30  total_pymnt_inv                799212 non-null  float64\n",
      " 31  total_rec_prncp                799212 non-null  float64\n",
      " 32  total_rec_int                  799212 non-null  float64\n",
      " 33  total_rec_late_fee             799212 non-null  float64\n",
      " 34  recoveries                     799212 non-null  float64\n",
      " 35  collection_recovery_fee        799212 non-null  float64\n",
      " 36  last_pymnt_amnt                799212 non-null  float64\n",
      " 37  last_fico_range_high           799212 non-null  float64\n",
      " 38  last_fico_range_low            799212 non-null  float64\n",
      " 39  collections_12_mths_ex_med     799212 non-null  float64\n",
      " 40  application_type               799212 non-null  object \n",
      " 41  acc_now_delinq                 799212 non-null  float64\n",
      " 42  tot_coll_amt                   799212 non-null  float64\n",
      " 43  tot_cur_bal                    799212 non-null  float64\n",
      " 44  open_acc_6m                    799212 non-null  float64\n",
      " 45  open_act_il                    799212 non-null  float64\n",
      " 46  open_il_12m                    799212 non-null  float64\n",
      " 47  open_il_24m                    799212 non-null  float64\n",
      " 48  mths_since_rcnt_il             799212 non-null  float64\n",
      " 49  total_bal_il                   799212 non-null  float64\n",
      " 50  il_util                        799212 non-null  float64\n",
      " 51  open_rv_12m                    799212 non-null  float64\n",
      " 52  open_rv_24m                    799212 non-null  float64\n",
      " 53  max_bal_bc                     799212 non-null  float64\n",
      " 54  all_util                       799212 non-null  float64\n",
      " 55  total_rev_hi_lim               799212 non-null  float64\n",
      " 56  inq_fi                         799212 non-null  float64\n",
      " 57  total_cu_tl                    799212 non-null  float64\n",
      " 58  inq_last_12m                   799212 non-null  float64\n",
      " 59  acc_open_past_24mths           799212 non-null  float64\n",
      " 60  avg_cur_bal                    799212 non-null  float64\n",
      " 61  bc_open_to_buy                 799212 non-null  float64\n",
      " 62  bc_util                        799212 non-null  float64\n",
      " 63  chargeoff_within_12_mths       799212 non-null  float64\n",
      " 64  delinq_amnt                    799212 non-null  float64\n",
      " 65  mo_sin_old_il_acct             799212 non-null  float64\n",
      " 66  mo_sin_old_rev_tl_op           799212 non-null  float64\n",
      " 67  mo_sin_rcnt_rev_tl_op          799212 non-null  float64\n",
      " 68  mo_sin_rcnt_tl                 799212 non-null  float64\n",
      " 69  mort_acc                       799212 non-null  float64\n",
      " 70  mths_since_recent_bc           799212 non-null  float64\n",
      " 71  mths_since_recent_inq          799212 non-null  float64\n",
      " 72  num_accts_ever_120_pd          799212 non-null  float64\n",
      " 73  num_actv_bc_tl                 799212 non-null  float64\n",
      " 74  num_actv_rev_tl                799212 non-null  float64\n",
      " 75  num_bc_sats                    799212 non-null  float64\n",
      " 76  num_bc_tl                      799212 non-null  float64\n",
      " 77  num_il_tl                      799212 non-null  float64\n",
      " 78  num_op_rev_tl                  799212 non-null  float64\n",
      " 79  num_rev_accts                  799212 non-null  float64\n",
      " 80  num_rev_tl_bal_gt_0            799212 non-null  float64\n",
      " 81  num_sats                       799212 non-null  float64\n",
      " 82  num_tl_120dpd_2m               799212 non-null  float64\n",
      " 83  num_tl_30dpd                   799212 non-null  float64\n",
      " 84  num_tl_90g_dpd_24m             799212 non-null  float64\n",
      " 85  num_tl_op_past_12m             799212 non-null  float64\n",
      " 86  pct_tl_nvr_dlq                 799212 non-null  float64\n",
      " 87  percent_bc_gt_75               799212 non-null  float64\n",
      " 88  pub_rec_bankruptcies           799212 non-null  float64\n",
      " 89  tax_liens                      799212 non-null  float64\n",
      " 90  tot_hi_cred_lim                799212 non-null  float64\n",
      " 91  total_bal_ex_mort              799212 non-null  float64\n",
      " 92  total_bc_limit                 799212 non-null  float64\n",
      " 93  total_il_high_credit_limit     799212 non-null  float64\n",
      " 94  hardship_flag                  799212 non-null  object \n",
      " 95  disbursement_method            799212 non-null  object \n",
      " 96  debt_settlement_flag           799212 non-null  object \n",
      " 97  credit_history_length          799212 non-null  float64\n",
      " 98  loan_age                       799212 non-null  float64\n",
      " 99  months_since_last_credit_pull  799212 non-null  float64\n",
      "dtypes: float64(85), object(15)\n",
      "memory usage: 615.8+ MB\n"
     ]
    }
   ],
   "source": [
    "df_accepted.info(verbose=True, show_counts=True)"
   ]
  },
  {
   "cell_type": "markdown",
   "metadata": {},
   "source": [
    "## Examine target variable"
   ]
  },
  {
   "cell_type": "code",
   "execution_count": 25,
   "metadata": {},
   "outputs": [
    {
     "name": "stderr",
     "output_type": "stream",
     "text": [
      "/Users/aryonnarice/488-team-assignment-2-1/utils/utility.py:52: PerformanceWarning: DataFrame is highly fragmented.  This is usually the result of calling `frame.insert` many times, which has poor performance.  Consider joining all columns at once using pd.concat(axis=1) instead. To get a de-fragmented frame, use `newframe = frame.copy()`\n",
      "  df['total_received'] = df['total_pymnt'] + df['recoveries'] - df['collection_recovery_fee']\n",
      "/Users/aryonnarice/488-team-assignment-2-1/utils/utility.py:53: PerformanceWarning: DataFrame is highly fragmented.  This is usually the result of calling `frame.insert` many times, which has poor performance.  Consider joining all columns at once using pd.concat(axis=1) instead. To get a de-fragmented frame, use `newframe = frame.copy()`\n",
      "  df['ROI'] = ((df['total_received'] - df['funded_amnt']) / df['funded_amnt'].replace(0, np.nan)) * 100\n"
     ]
    }
   ],
   "source": [
    "df_accepted = utility.calculate_roi(df=df_accepted)"
   ]
  },
  {
   "cell_type": "code",
   "execution_count": null,
   "metadata": {},
   "outputs": [],
   "source": [
    "sns.histplot(data=df_accepted, x='ROI')\n",
    "plt.show()"
   ]
  },
  {
   "cell_type": "markdown",
   "metadata": {},
   "source": [
    "## Encode Categoroical Data\n",
    "- one-hot encode the following: term, grade, home_ownerhsip, verification_status, loan_status, pymnt_plan, purpose, initial_list_status, application_type, hardship_flag, disbursement_method, and debt_settlement_flag\n",
    "- encode addr_state: (one host encoding may not suitable since it will increase dimensionality)"
   ]
  },
  {
   "cell_type": "code",
   "execution_count": 26,
   "metadata": {},
   "outputs": [],
   "source": [
    "# Some how changed to type object needs to be category\n",
    "category_columns = utility.get_object_columns(df=df_accepted)\n",
    "df_accepted = utility.to_categorical(df=df_accepted, columns=category_columns)"
   ]
  },
  {
   "cell_type": "code",
   "execution_count": 27,
   "metadata": {},
   "outputs": [],
   "source": [
    "# One hot encoding on all\n",
    "one_hot_features = utility.get_category_columns(df=df_accepted)\n",
    "df_accepted = utility.one_hot_encode(df=df_accepted, columns_to_encode=one_hot_features)"
   ]
  },
  {
   "cell_type": "code",
   "execution_count": 28,
   "metadata": {},
   "outputs": [
    {
     "name": "stdout",
     "output_type": "stream",
     "text": [
      "<class 'pandas.core.frame.DataFrame'>\n",
      "Index: 799212 entries, 4 to 2260697\n",
      "Data columns (total 233 columns):\n",
      " #    Column                               Non-Null Count   Dtype  \n",
      "---   ------                               --------------   -----  \n",
      " 0    loan_amnt                            799212 non-null  float64\n",
      " 1    funded_amnt                          799212 non-null  float64\n",
      " 2    funded_amnt_inv                      799212 non-null  float64\n",
      " 3    int_rate                             799212 non-null  float64\n",
      " 4    installment                          799212 non-null  float64\n",
      " 5    annual_inc                           799212 non-null  float64\n",
      " 6    dti                                  799212 non-null  float64\n",
      " 7    delinq_2yrs                          799212 non-null  float64\n",
      " 8    fico_range_low                       799212 non-null  float64\n",
      " 9    fico_range_high                      799212 non-null  float64\n",
      " 10   inq_last_6mths                       799212 non-null  float64\n",
      " 11   open_acc                             799212 non-null  float64\n",
      " 12   pub_rec                              799212 non-null  float64\n",
      " 13   revol_bal                            799212 non-null  float64\n",
      " 14   revol_util                           799212 non-null  float64\n",
      " 15   total_acc                            799212 non-null  float64\n",
      " 16   out_prncp                            799212 non-null  float64\n",
      " 17   out_prncp_inv                        799212 non-null  float64\n",
      " 18   total_pymnt                          799212 non-null  float64\n",
      " 19   total_pymnt_inv                      799212 non-null  float64\n",
      " 20   total_rec_prncp                      799212 non-null  float64\n",
      " 21   total_rec_int                        799212 non-null  float64\n",
      " 22   total_rec_late_fee                   799212 non-null  float64\n",
      " 23   recoveries                           799212 non-null  float64\n",
      " 24   collection_recovery_fee              799212 non-null  float64\n",
      " 25   last_pymnt_amnt                      799212 non-null  float64\n",
      " 26   last_fico_range_high                 799212 non-null  float64\n",
      " 27   last_fico_range_low                  799212 non-null  float64\n",
      " 28   collections_12_mths_ex_med           799212 non-null  float64\n",
      " 29   acc_now_delinq                       799212 non-null  float64\n",
      " 30   tot_coll_amt                         799212 non-null  float64\n",
      " 31   tot_cur_bal                          799212 non-null  float64\n",
      " 32   open_acc_6m                          799212 non-null  float64\n",
      " 33   open_act_il                          799212 non-null  float64\n",
      " 34   open_il_12m                          799212 non-null  float64\n",
      " 35   open_il_24m                          799212 non-null  float64\n",
      " 36   mths_since_rcnt_il                   799212 non-null  float64\n",
      " 37   total_bal_il                         799212 non-null  float64\n",
      " 38   il_util                              799212 non-null  float64\n",
      " 39   open_rv_12m                          799212 non-null  float64\n",
      " 40   open_rv_24m                          799212 non-null  float64\n",
      " 41   max_bal_bc                           799212 non-null  float64\n",
      " 42   all_util                             799212 non-null  float64\n",
      " 43   total_rev_hi_lim                     799212 non-null  float64\n",
      " 44   inq_fi                               799212 non-null  float64\n",
      " 45   total_cu_tl                          799212 non-null  float64\n",
      " 46   inq_last_12m                         799212 non-null  float64\n",
      " 47   acc_open_past_24mths                 799212 non-null  float64\n",
      " 48   avg_cur_bal                          799212 non-null  float64\n",
      " 49   bc_open_to_buy                       799212 non-null  float64\n",
      " 50   bc_util                              799212 non-null  float64\n",
      " 51   chargeoff_within_12_mths             799212 non-null  float64\n",
      " 52   delinq_amnt                          799212 non-null  float64\n",
      " 53   mo_sin_old_il_acct                   799212 non-null  float64\n",
      " 54   mo_sin_old_rev_tl_op                 799212 non-null  float64\n",
      " 55   mo_sin_rcnt_rev_tl_op                799212 non-null  float64\n",
      " 56   mo_sin_rcnt_tl                       799212 non-null  float64\n",
      " 57   mort_acc                             799212 non-null  float64\n",
      " 58   mths_since_recent_bc                 799212 non-null  float64\n",
      " 59   mths_since_recent_inq                799212 non-null  float64\n",
      " 60   num_accts_ever_120_pd                799212 non-null  float64\n",
      " 61   num_actv_bc_tl                       799212 non-null  float64\n",
      " 62   num_actv_rev_tl                      799212 non-null  float64\n",
      " 63   num_bc_sats                          799212 non-null  float64\n",
      " 64   num_bc_tl                            799212 non-null  float64\n",
      " 65   num_il_tl                            799212 non-null  float64\n",
      " 66   num_op_rev_tl                        799212 non-null  float64\n",
      " 67   num_rev_accts                        799212 non-null  float64\n",
      " 68   num_rev_tl_bal_gt_0                  799212 non-null  float64\n",
      " 69   num_sats                             799212 non-null  float64\n",
      " 70   num_tl_120dpd_2m                     799212 non-null  float64\n",
      " 71   num_tl_30dpd                         799212 non-null  float64\n",
      " 72   num_tl_90g_dpd_24m                   799212 non-null  float64\n",
      " 73   num_tl_op_past_12m                   799212 non-null  float64\n",
      " 74   pct_tl_nvr_dlq                       799212 non-null  float64\n",
      " 75   percent_bc_gt_75                     799212 non-null  float64\n",
      " 76   pub_rec_bankruptcies                 799212 non-null  float64\n",
      " 77   tax_liens                            799212 non-null  float64\n",
      " 78   tot_hi_cred_lim                      799212 non-null  float64\n",
      " 79   total_bal_ex_mort                    799212 non-null  float64\n",
      " 80   total_bc_limit                       799212 non-null  float64\n",
      " 81   total_il_high_credit_limit           799212 non-null  float64\n",
      " 82   credit_history_length                799212 non-null  float64\n",
      " 83   loan_age                             799212 non-null  float64\n",
      " 84   months_since_last_credit_pull        799212 non-null  float64\n",
      " 85   total_received                       799212 non-null  float64\n",
      " 86   ROI                                  799212 non-null  float64\n",
      " 87   term_ 36 months                      799212 non-null  bool   \n",
      " 88   term_ 60 months                      799212 non-null  bool   \n",
      " 89   grade_A                              799212 non-null  bool   \n",
      " 90   grade_B                              799212 non-null  bool   \n",
      " 91   grade_C                              799212 non-null  bool   \n",
      " 92   grade_D                              799212 non-null  bool   \n",
      " 93   grade_E                              799212 non-null  bool   \n",
      " 94   grade_F                              799212 non-null  bool   \n",
      " 95   grade_G                              799212 non-null  bool   \n",
      " 96   sub_grade_A1                         799212 non-null  bool   \n",
      " 97   sub_grade_A2                         799212 non-null  bool   \n",
      " 98   sub_grade_A3                         799212 non-null  bool   \n",
      " 99   sub_grade_A4                         799212 non-null  bool   \n",
      " 100  sub_grade_A5                         799212 non-null  bool   \n",
      " 101  sub_grade_B1                         799212 non-null  bool   \n",
      " 102  sub_grade_B2                         799212 non-null  bool   \n",
      " 103  sub_grade_B3                         799212 non-null  bool   \n",
      " 104  sub_grade_B4                         799212 non-null  bool   \n",
      " 105  sub_grade_B5                         799212 non-null  bool   \n",
      " 106  sub_grade_C1                         799212 non-null  bool   \n",
      " 107  sub_grade_C2                         799212 non-null  bool   \n",
      " 108  sub_grade_C3                         799212 non-null  bool   \n",
      " 109  sub_grade_C4                         799212 non-null  bool   \n",
      " 110  sub_grade_C5                         799212 non-null  bool   \n",
      " 111  sub_grade_D1                         799212 non-null  bool   \n",
      " 112  sub_grade_D2                         799212 non-null  bool   \n",
      " 113  sub_grade_D3                         799212 non-null  bool   \n",
      " 114  sub_grade_D4                         799212 non-null  bool   \n",
      " 115  sub_grade_D5                         799212 non-null  bool   \n",
      " 116  sub_grade_E1                         799212 non-null  bool   \n",
      " 117  sub_grade_E2                         799212 non-null  bool   \n",
      " 118  sub_grade_E3                         799212 non-null  bool   \n",
      " 119  sub_grade_E4                         799212 non-null  bool   \n",
      " 120  sub_grade_E5                         799212 non-null  bool   \n",
      " 121  sub_grade_F1                         799212 non-null  bool   \n",
      " 122  sub_grade_F2                         799212 non-null  bool   \n",
      " 123  sub_grade_F3                         799212 non-null  bool   \n",
      " 124  sub_grade_F4                         799212 non-null  bool   \n",
      " 125  sub_grade_F5                         799212 non-null  bool   \n",
      " 126  sub_grade_G1                         799212 non-null  bool   \n",
      " 127  sub_grade_G2                         799212 non-null  bool   \n",
      " 128  sub_grade_G3                         799212 non-null  bool   \n",
      " 129  sub_grade_G4                         799212 non-null  bool   \n",
      " 130  sub_grade_G5                         799212 non-null  bool   \n",
      " 131  emp_length_1 year                    799212 non-null  bool   \n",
      " 132  emp_length_2 years                   799212 non-null  bool   \n",
      " 133  emp_length_3 years                   799212 non-null  bool   \n",
      " 134  emp_length_4 years                   799212 non-null  bool   \n",
      " 135  emp_length_5 years                   799212 non-null  bool   \n",
      " 136  emp_length_6 years                   799212 non-null  bool   \n",
      " 137  emp_length_7 years                   799212 non-null  bool   \n",
      " 138  emp_length_8 years                   799212 non-null  bool   \n",
      " 139  emp_length_9 years                   799212 non-null  bool   \n",
      " 140  home_ownership_ANY                   799212 non-null  bool   \n",
      " 141  home_ownership_MORTGAGE              799212 non-null  bool   \n",
      " 142  home_ownership_NONE                  799212 non-null  bool   \n",
      " 143  home_ownership_OTHER                 799212 non-null  bool   \n",
      " 144  home_ownership_OWN                   799212 non-null  bool   \n",
      " 145  home_ownership_RENT                  799212 non-null  bool   \n",
      " 146  verification_status_Not Verified     799212 non-null  bool   \n",
      " 147  verification_status_Source Verified  799212 non-null  bool   \n",
      " 148  verification_status_Verified         799212 non-null  bool   \n",
      " 149  loan_status_Charged Off              799212 non-null  bool   \n",
      " 150  loan_status_Current                  799212 non-null  bool   \n",
      " 151  loan_status_Default                  799212 non-null  bool   \n",
      " 152  loan_status_Fully Paid               799212 non-null  bool   \n",
      " 153  loan_status_In Grace Period          799212 non-null  bool   \n",
      " 154  loan_status_Late (16-30 days)        799212 non-null  bool   \n",
      " 155  loan_status_Late (31-120 days)       799212 non-null  bool   \n",
      " 156  pymnt_plan_n                         799212 non-null  bool   \n",
      " 157  pymnt_plan_y                         799212 non-null  bool   \n",
      " 158  purpose_car                          799212 non-null  bool   \n",
      " 159  purpose_credit_card                  799212 non-null  bool   \n",
      " 160  purpose_debt_consolidation           799212 non-null  bool   \n",
      " 161  purpose_educational                  799212 non-null  bool   \n",
      " 162  purpose_home_improvement             799212 non-null  bool   \n",
      " 163  purpose_house                        799212 non-null  bool   \n",
      " 164  purpose_major_purchase               799212 non-null  bool   \n",
      " 165  purpose_medical                      799212 non-null  bool   \n",
      " 166  purpose_moving                       799212 non-null  bool   \n",
      " 167  purpose_other                        799212 non-null  bool   \n",
      " 168  purpose_renewable_energy             799212 non-null  bool   \n",
      " 169  purpose_small_business               799212 non-null  bool   \n",
      " 170  purpose_vacation                     799212 non-null  bool   \n",
      " 171  purpose_wedding                      799212 non-null  bool   \n",
      " 172  addr_state_AK                        799212 non-null  bool   \n",
      " 173  addr_state_AL                        799212 non-null  bool   \n",
      " 174  addr_state_AR                        799212 non-null  bool   \n",
      " 175  addr_state_AZ                        799212 non-null  bool   \n",
      " 176  addr_state_CA                        799212 non-null  bool   \n",
      " 177  addr_state_CO                        799212 non-null  bool   \n",
      " 178  addr_state_CT                        799212 non-null  bool   \n",
      " 179  addr_state_DC                        799212 non-null  bool   \n",
      " 180  addr_state_DE                        799212 non-null  bool   \n",
      " 181  addr_state_FL                        799212 non-null  bool   \n",
      " 182  addr_state_GA                        799212 non-null  bool   \n",
      " 183  addr_state_HI                        799212 non-null  bool   \n",
      " 184  addr_state_IA                        799212 non-null  bool   \n",
      " 185  addr_state_ID                        799212 non-null  bool   \n",
      " 186  addr_state_IL                        799212 non-null  bool   \n",
      " 187  addr_state_IN                        799212 non-null  bool   \n",
      " 188  addr_state_KS                        799212 non-null  bool   \n",
      " 189  addr_state_KY                        799212 non-null  bool   \n",
      " 190  addr_state_LA                        799212 non-null  bool   \n",
      " 191  addr_state_MA                        799212 non-null  bool   \n",
      " 192  addr_state_MD                        799212 non-null  bool   \n",
      " 193  addr_state_ME                        799212 non-null  bool   \n",
      " 194  addr_state_MI                        799212 non-null  bool   \n",
      " 195  addr_state_MN                        799212 non-null  bool   \n",
      " 196  addr_state_MO                        799212 non-null  bool   \n",
      " 197  addr_state_MS                        799212 non-null  bool   \n",
      " 198  addr_state_MT                        799212 non-null  bool   \n",
      " 199  addr_state_NC                        799212 non-null  bool   \n",
      " 200  addr_state_ND                        799212 non-null  bool   \n",
      " 201  addr_state_NE                        799212 non-null  bool   \n",
      " 202  addr_state_NH                        799212 non-null  bool   \n",
      " 203  addr_state_NJ                        799212 non-null  bool   \n",
      " 204  addr_state_NM                        799212 non-null  bool   \n",
      " 205  addr_state_NV                        799212 non-null  bool   \n",
      " 206  addr_state_NY                        799212 non-null  bool   \n",
      " 207  addr_state_OH                        799212 non-null  bool   \n",
      " 208  addr_state_OK                        799212 non-null  bool   \n",
      " 209  addr_state_OR                        799212 non-null  bool   \n",
      " 210  addr_state_PA                        799212 non-null  bool   \n",
      " 211  addr_state_RI                        799212 non-null  bool   \n",
      " 212  addr_state_SC                        799212 non-null  bool   \n",
      " 213  addr_state_SD                        799212 non-null  bool   \n",
      " 214  addr_state_TN                        799212 non-null  bool   \n",
      " 215  addr_state_TX                        799212 non-null  bool   \n",
      " 216  addr_state_UT                        799212 non-null  bool   \n",
      " 217  addr_state_VA                        799212 non-null  bool   \n",
      " 218  addr_state_VT                        799212 non-null  bool   \n",
      " 219  addr_state_WA                        799212 non-null  bool   \n",
      " 220  addr_state_WI                        799212 non-null  bool   \n",
      " 221  addr_state_WV                        799212 non-null  bool   \n",
      " 222  addr_state_WY                        799212 non-null  bool   \n",
      " 223  initial_list_status_f                799212 non-null  bool   \n",
      " 224  initial_list_status_w                799212 non-null  bool   \n",
      " 225  application_type_Individual          799212 non-null  bool   \n",
      " 226  application_type_Joint App           799212 non-null  bool   \n",
      " 227  hardship_flag_N                      799212 non-null  bool   \n",
      " 228  hardship_flag_Y                      799212 non-null  bool   \n",
      " 229  disbursement_method_Cash             799212 non-null  bool   \n",
      " 230  disbursement_method_DirectPay        799212 non-null  bool   \n",
      " 231  debt_settlement_flag_N               799212 non-null  bool   \n",
      " 232  debt_settlement_flag_Y               799212 non-null  bool   \n",
      "dtypes: bool(146), float64(87)\n",
      "memory usage: 647.9 MB\n"
     ]
    }
   ],
   "source": [
    "df_accepted.info(verbose=True, show_counts=True)"
   ]
  },
  {
   "cell_type": "markdown",
   "metadata": {},
   "source": [
    "## Fix Skewed Features"
   ]
  },
  {
   "cell_type": "code",
   "execution_count": 29,
   "metadata": {},
   "outputs": [],
   "source": [
    "arcsinh_df_accepted = df_accepted.copy(deep=True)"
   ]
  },
  {
   "cell_type": "code",
   "execution_count": 30,
   "metadata": {},
   "outputs": [],
   "source": [
    "# Get the columns with high skew values\n",
    "skewed_columns = utility.get_high_skewed_columns(df=arcsinh_df_accepted)\n",
    "arcsinh_df_accepted = utility.fix_skewed_features(arcsinh_df=arcsinh_df_accepted, skewed_features=skewed_columns)"
   ]
  },
  {
   "cell_type": "markdown",
   "metadata": {},
   "source": [
    "## Standardize Features"
   ]
  },
  {
   "cell_type": "code",
   "execution_count": 31,
   "metadata": {},
   "outputs": [],
   "source": [
    "# We can now define the scaler we want to use and apply it to our dataset\n",
    "scaler = StandardScaler()\n",
    "numeric_columns = utility.get_numerical_columns(df=arcsinh_df_accepted)\n",
    "arcsinh_df_accepted = utility.scale_numeric(arcsinh_df_accepted, numeric_columns, scaler)\n",
    "\n",
    "# Let's check out varible's distribution after the rescaling\n",
    "#utility.visualize_numerical_variables(df=arcsinh_df_accepted)"
   ]
  },
  {
   "cell_type": "code",
   "execution_count": null,
   "metadata": {},
   "outputs": [],
   "source": [
    "arcsinh_df_accepted.info(verbose=True, show_counts=True)"
   ]
  },
  {
   "cell_type": "markdown",
   "metadata": {},
   "source": [
    "## Apply Lasso Regression"
   ]
  },
  {
   "cell_type": "code",
   "execution_count": 32,
   "metadata": {},
   "outputs": [],
   "source": [
    "# Split out dependent variable (y) and independent variables (X)\n",
    "y = arcsinh_df_accepted['ROI_arcsinh'].values\n",
    "X = arcsinh_df_accepted.drop(columns=['ROI_arcsinh'])"
   ]
  },
  {
   "cell_type": "code",
   "execution_count": 33,
   "metadata": {},
   "outputs": [],
   "source": [
    "# Train-Test-Split our Sample\n",
    "X_train, X_test, y_train, y_test = model_selection.train_test_split(X, y, test_size = 0.2, random_state=42)"
   ]
  },
  {
   "cell_type": "code",
   "execution_count": 34,
   "metadata": {},
   "outputs": [
    {
     "data": {
      "text/html": [
       "<style>#sk-container-id-1 {color: black;}#sk-container-id-1 pre{padding: 0;}#sk-container-id-1 div.sk-toggleable {background-color: white;}#sk-container-id-1 label.sk-toggleable__label {cursor: pointer;display: block;width: 100%;margin-bottom: 0;padding: 0.3em;box-sizing: border-box;text-align: center;}#sk-container-id-1 label.sk-toggleable__label-arrow:before {content: \"▸\";float: left;margin-right: 0.25em;color: #696969;}#sk-container-id-1 label.sk-toggleable__label-arrow:hover:before {color: black;}#sk-container-id-1 div.sk-estimator:hover label.sk-toggleable__label-arrow:before {color: black;}#sk-container-id-1 div.sk-toggleable__content {max-height: 0;max-width: 0;overflow: hidden;text-align: left;background-color: #f0f8ff;}#sk-container-id-1 div.sk-toggleable__content pre {margin: 0.2em;color: black;border-radius: 0.25em;background-color: #f0f8ff;}#sk-container-id-1 input.sk-toggleable__control:checked~div.sk-toggleable__content {max-height: 200px;max-width: 100%;overflow: auto;}#sk-container-id-1 input.sk-toggleable__control:checked~label.sk-toggleable__label-arrow:before {content: \"▾\";}#sk-container-id-1 div.sk-estimator input.sk-toggleable__control:checked~label.sk-toggleable__label {background-color: #d4ebff;}#sk-container-id-1 div.sk-label input.sk-toggleable__control:checked~label.sk-toggleable__label {background-color: #d4ebff;}#sk-container-id-1 input.sk-hidden--visually {border: 0;clip: rect(1px 1px 1px 1px);clip: rect(1px, 1px, 1px, 1px);height: 1px;margin: -1px;overflow: hidden;padding: 0;position: absolute;width: 1px;}#sk-container-id-1 div.sk-estimator {font-family: monospace;background-color: #f0f8ff;border: 1px dotted black;border-radius: 0.25em;box-sizing: border-box;margin-bottom: 0.5em;}#sk-container-id-1 div.sk-estimator:hover {background-color: #d4ebff;}#sk-container-id-1 div.sk-parallel-item::after {content: \"\";width: 100%;border-bottom: 1px solid gray;flex-grow: 1;}#sk-container-id-1 div.sk-label:hover label.sk-toggleable__label {background-color: #d4ebff;}#sk-container-id-1 div.sk-serial::before {content: \"\";position: absolute;border-left: 1px solid gray;box-sizing: border-box;top: 0;bottom: 0;left: 50%;z-index: 0;}#sk-container-id-1 div.sk-serial {display: flex;flex-direction: column;align-items: center;background-color: white;padding-right: 0.2em;padding-left: 0.2em;position: relative;}#sk-container-id-1 div.sk-item {position: relative;z-index: 1;}#sk-container-id-1 div.sk-parallel {display: flex;align-items: stretch;justify-content: center;background-color: white;position: relative;}#sk-container-id-1 div.sk-item::before, #sk-container-id-1 div.sk-parallel-item::before {content: \"\";position: absolute;border-left: 1px solid gray;box-sizing: border-box;top: 0;bottom: 0;left: 50%;z-index: -1;}#sk-container-id-1 div.sk-parallel-item {display: flex;flex-direction: column;z-index: 1;position: relative;background-color: white;}#sk-container-id-1 div.sk-parallel-item:first-child::after {align-self: flex-end;width: 50%;}#sk-container-id-1 div.sk-parallel-item:last-child::after {align-self: flex-start;width: 50%;}#sk-container-id-1 div.sk-parallel-item:only-child::after {width: 0;}#sk-container-id-1 div.sk-dashed-wrapped {border: 1px dashed gray;margin: 0 0.4em 0.5em 0.4em;box-sizing: border-box;padding-bottom: 0.4em;background-color: white;}#sk-container-id-1 div.sk-label label {font-family: monospace;font-weight: bold;display: inline-block;line-height: 1.2em;}#sk-container-id-1 div.sk-label-container {text-align: center;}#sk-container-id-1 div.sk-container {/* jupyter's `normalize.less` sets `[hidden] { display: none; }` but bootstrap.min.css set `[hidden] { display: none !important; }` so we also need the `!important` here to be able to override the default hidden behavior on the sphinx rendered scikit-learn.org. See: https://github.com/scikit-learn/scikit-learn/issues/21755 */display: inline-block !important;position: relative;}#sk-container-id-1 div.sk-text-repr-fallback {display: none;}</style><div id=\"sk-container-id-1\" class=\"sk-top-container\"><div class=\"sk-text-repr-fallback\"><pre>Lasso(alpha=0.1)</pre><b>In a Jupyter environment, please rerun this cell to show the HTML representation or trust the notebook. <br />On GitHub, the HTML representation is unable to render, please try loading this page with nbviewer.org.</b></div><div class=\"sk-container\" hidden><div class=\"sk-item\"><div class=\"sk-estimator sk-toggleable\"><input class=\"sk-toggleable__control sk-hidden--visually\" id=\"sk-estimator-id-1\" type=\"checkbox\" checked><label for=\"sk-estimator-id-1\" class=\"sk-toggleable__label sk-toggleable__label-arrow\">Lasso</label><div class=\"sk-toggleable__content\"><pre>Lasso(alpha=0.1)</pre></div></div></div></div></div>"
      ],
      "text/plain": [
       "Lasso(alpha=0.1)"
      ]
     },
     "execution_count": 34,
     "metadata": {},
     "output_type": "execute_result"
    }
   ],
   "source": [
    "# Use Lasso Regression\n",
    "lasso = Lasso(alpha=0.1) # Starting value, consider tuning this\n",
    "lasso.fit(X_train, y_train)"
   ]
  },
  {
   "cell_type": "code",
   "execution_count": 35,
   "metadata": {},
   "outputs": [
    {
     "name": "stdout",
     "output_type": "stream",
     "text": [
      "Mean Squared Error: 0.14218868621473973\n",
      "R^2 Score: 0.8578153886283718\n",
      "MAE Score: 0.30908364212557493\n"
     ]
    }
   ],
   "source": [
    "# Check accuracy\n",
    "y_pred = lasso.predict(X_test)\n",
    "mse = mean_squared_error(y_test, y_pred)\n",
    "r2 = r2_score(y_test, y_pred)\n",
    "mae = mean_absolute_error(y_test, y_pred)\n",
    "\n",
    "print(f\"Mean Squared Error: {mse}\")\n",
    "print(f\"R^2 Score: {r2}\")\n",
    "print(f\"MAE Score: {mae}\")"
   ]
  },
  {
   "cell_type": "markdown",
   "metadata": {},
   "source": [
    "### Reduce Dimensionality using PCA"
   ]
  },
  {
   "cell_type": "code",
   "execution_count": 40,
   "metadata": {},
   "outputs": [],
   "source": [
    "pca = PCA(n_components=0.95) # Retain 95% of the variance\n",
    "X_pca = pca.fit_transform(X)\n",
    "X_train_pca, X_test_pca, y_train, y_test = model_selection.train_test_split(X_pca, y, test_size=0.2, random_state=42)\n"
   ]
  },
  {
   "cell_type": "code",
   "execution_count": 41,
   "metadata": {},
   "outputs": [
    {
     "data": {
      "text/html": [
       "<style>#sk-container-id-3 {color: black;}#sk-container-id-3 pre{padding: 0;}#sk-container-id-3 div.sk-toggleable {background-color: white;}#sk-container-id-3 label.sk-toggleable__label {cursor: pointer;display: block;width: 100%;margin-bottom: 0;padding: 0.3em;box-sizing: border-box;text-align: center;}#sk-container-id-3 label.sk-toggleable__label-arrow:before {content: \"▸\";float: left;margin-right: 0.25em;color: #696969;}#sk-container-id-3 label.sk-toggleable__label-arrow:hover:before {color: black;}#sk-container-id-3 div.sk-estimator:hover label.sk-toggleable__label-arrow:before {color: black;}#sk-container-id-3 div.sk-toggleable__content {max-height: 0;max-width: 0;overflow: hidden;text-align: left;background-color: #f0f8ff;}#sk-container-id-3 div.sk-toggleable__content pre {margin: 0.2em;color: black;border-radius: 0.25em;background-color: #f0f8ff;}#sk-container-id-3 input.sk-toggleable__control:checked~div.sk-toggleable__content {max-height: 200px;max-width: 100%;overflow: auto;}#sk-container-id-3 input.sk-toggleable__control:checked~label.sk-toggleable__label-arrow:before {content: \"▾\";}#sk-container-id-3 div.sk-estimator input.sk-toggleable__control:checked~label.sk-toggleable__label {background-color: #d4ebff;}#sk-container-id-3 div.sk-label input.sk-toggleable__control:checked~label.sk-toggleable__label {background-color: #d4ebff;}#sk-container-id-3 input.sk-hidden--visually {border: 0;clip: rect(1px 1px 1px 1px);clip: rect(1px, 1px, 1px, 1px);height: 1px;margin: -1px;overflow: hidden;padding: 0;position: absolute;width: 1px;}#sk-container-id-3 div.sk-estimator {font-family: monospace;background-color: #f0f8ff;border: 1px dotted black;border-radius: 0.25em;box-sizing: border-box;margin-bottom: 0.5em;}#sk-container-id-3 div.sk-estimator:hover {background-color: #d4ebff;}#sk-container-id-3 div.sk-parallel-item::after {content: \"\";width: 100%;border-bottom: 1px solid gray;flex-grow: 1;}#sk-container-id-3 div.sk-label:hover label.sk-toggleable__label {background-color: #d4ebff;}#sk-container-id-3 div.sk-serial::before {content: \"\";position: absolute;border-left: 1px solid gray;box-sizing: border-box;top: 0;bottom: 0;left: 50%;z-index: 0;}#sk-container-id-3 div.sk-serial {display: flex;flex-direction: column;align-items: center;background-color: white;padding-right: 0.2em;padding-left: 0.2em;position: relative;}#sk-container-id-3 div.sk-item {position: relative;z-index: 1;}#sk-container-id-3 div.sk-parallel {display: flex;align-items: stretch;justify-content: center;background-color: white;position: relative;}#sk-container-id-3 div.sk-item::before, #sk-container-id-3 div.sk-parallel-item::before {content: \"\";position: absolute;border-left: 1px solid gray;box-sizing: border-box;top: 0;bottom: 0;left: 50%;z-index: -1;}#sk-container-id-3 div.sk-parallel-item {display: flex;flex-direction: column;z-index: 1;position: relative;background-color: white;}#sk-container-id-3 div.sk-parallel-item:first-child::after {align-self: flex-end;width: 50%;}#sk-container-id-3 div.sk-parallel-item:last-child::after {align-self: flex-start;width: 50%;}#sk-container-id-3 div.sk-parallel-item:only-child::after {width: 0;}#sk-container-id-3 div.sk-dashed-wrapped {border: 1px dashed gray;margin: 0 0.4em 0.5em 0.4em;box-sizing: border-box;padding-bottom: 0.4em;background-color: white;}#sk-container-id-3 div.sk-label label {font-family: monospace;font-weight: bold;display: inline-block;line-height: 1.2em;}#sk-container-id-3 div.sk-label-container {text-align: center;}#sk-container-id-3 div.sk-container {/* jupyter's `normalize.less` sets `[hidden] { display: none; }` but bootstrap.min.css set `[hidden] { display: none !important; }` so we also need the `!important` here to be able to override the default hidden behavior on the sphinx rendered scikit-learn.org. See: https://github.com/scikit-learn/scikit-learn/issues/21755 */display: inline-block !important;position: relative;}#sk-container-id-3 div.sk-text-repr-fallback {display: none;}</style><div id=\"sk-container-id-3\" class=\"sk-top-container\"><div class=\"sk-text-repr-fallback\"><pre>Lasso(alpha=0.1)</pre><b>In a Jupyter environment, please rerun this cell to show the HTML representation or trust the notebook. <br />On GitHub, the HTML representation is unable to render, please try loading this page with nbviewer.org.</b></div><div class=\"sk-container\" hidden><div class=\"sk-item\"><div class=\"sk-estimator sk-toggleable\"><input class=\"sk-toggleable__control sk-hidden--visually\" id=\"sk-estimator-id-3\" type=\"checkbox\" checked><label for=\"sk-estimator-id-3\" class=\"sk-toggleable__label sk-toggleable__label-arrow\">Lasso</label><div class=\"sk-toggleable__content\"><pre>Lasso(alpha=0.1)</pre></div></div></div></div></div>"
      ],
      "text/plain": [
       "Lasso(alpha=0.1)"
      ]
     },
     "execution_count": 41,
     "metadata": {},
     "output_type": "execute_result"
    }
   ],
   "source": [
    "lasso = Lasso(alpha=0.1) # Starting value, consider tuning this\n",
    "lasso.fit(X_train_pca, y_train)"
   ]
  },
  {
   "cell_type": "code",
   "execution_count": 42,
   "metadata": {},
   "outputs": [
    {
     "name": "stdout",
     "output_type": "stream",
     "text": [
      "Mean Squared Error: 0.2874094330896692\n",
      "R^2 Score: 0.7125988034893428\n",
      "MAE Score: 0.4557877243944553\n"
     ]
    }
   ],
   "source": [
    "y_pred = lasso.predict(X_test_pca)\n",
    "mse = mean_squared_error(y_test, y_pred)\n",
    "r2 = r2_score(y_test, y_pred)\n",
    "mae = mean_absolute_error(y_test, y_pred)\n",
    "\n",
    "print(f\"Mean Squared Error: {mse}\")\n",
    "print(f\"R^2 Score: {r2}\")\n",
    "print(f\"MAE Score: {mae}\")"
   ]
  },
  {
   "cell_type": "markdown",
   "metadata": {},
   "source": [
    "##### Significant improvment. We will use this as a baseline. Can we do better than ______?"
   ]
  },
  {
   "cell_type": "markdown",
   "metadata": {},
   "source": [
    "## Evaluate Feature Importance"
   ]
  },
  {
   "cell_type": "markdown",
   "metadata": {},
   "source": [
    "### Get the importance of each original feature"
   ]
  },
  {
   "cell_type": "code",
   "execution_count": 43,
   "metadata": {},
   "outputs": [],
   "source": [
    "# pca is our PCA object and lasso is our trained Lasso model\n",
    "lasso_coefficients = lasso.coef_\n",
    "pca_components = pca.components_\n",
    "\n",
    "# Calculate feature importance\n",
    "feature_importance = np.dot(lasso_coefficients, pca_components)\n",
    "\n",
    "# feature_importance now holds the importance of each original feature"
   ]
  },
  {
   "cell_type": "markdown",
   "metadata": {},
   "source": [
    "### Create a DF with each feature and its importance"
   ]
  },
  {
   "cell_type": "code",
   "execution_count": null,
   "metadata": {},
   "outputs": [],
   "source": [
    "feature_names = X.columns\n",
    "importance_scores = feature_importance\n",
    "\n",
    "# Create a DataFrame for better visualization\n",
    "feature_importance_df = pd.DataFrame({'Feature': feature_names, 'Importance': importance_scores})\n",
    "\n",
    "# Sort the DataFrame by importance score\n",
    "sorted_feature_importance_df = feature_importance_df.sort_values(by='Importance', ascending=False)\n",
    "\n",
    "# Display the sorted DataFrame\n",
    "pd.set_option('display.max_rows', None)\n",
    "sorted_feature_importance_df"
   ]
  },
  {
   "cell_type": "markdown",
   "metadata": {},
   "source": [
    "### Visualize the top 20 features importances"
   ]
  },
  {
   "cell_type": "code",
   "execution_count": 45,
   "metadata": {},
   "outputs": [
    {
     "data": {
      "image/png": "[encoded data removed]",
      "text/plain": [
       "<Figure size 1000x800 with 1 Axes>"
      ]
     },
     "metadata": {},
     "output_type": "display_data"
    }
   ],
   "source": [
    "# Use only the top N features for a clearer visualization\n",
    "top_n = 20\n",
    "top_features = sorted_feature_importance_df.head(top_n)\n",
    "\n",
    "plt.figure(figsize=(10, 8))\n",
    "sns.barplot(data=top_features, x='Importance', y='Feature')\n",
    "plt.title('Top Features Based on Lasso-PCA Model')\n",
    "plt.xlabel('Importance Score')\n",
    "plt.ylabel('Feature')\n",
    "plt.show()"
   ]
  },
  {
   "cell_type": "markdown",
   "metadata": {},
   "source": [
    "## Implement Random Forest"
   ]
  },
  {
   "cell_type": "markdown",
   "metadata": {},
   "source": [
    "### Random Forest on All Features"
   ]
  },
  {
   "cell_type": "markdown",
   "metadata": {},
   "source": [
    "#### Create RandomForestRefressor using Raw Data\n"
   ]
  },
  {
   "cell_type": "code",
   "execution_count": 46,
   "metadata": {},
   "outputs": [],
   "source": [
    "# Train-Test-Split our Sample\n",
    "X_train, X_test, y_train, y_test = model_selection.train_test_split(X, y, test_size = 0.2, random_state=42)"
   ]
  },
  {
   "cell_type": "code",
   "execution_count": 47,
   "metadata": {},
   "outputs": [
    {
     "ename": "KeyboardInterrupt",
     "evalue": "",
     "output_type": "error",
     "traceback": [
      "\u001b[0;31m---------------------------------------------------------------------------\u001b[0m",
      "\u001b[0;31mKeyboardInterrupt\u001b[0m                         Traceback (most recent call last)",
      "Cell \u001b[0;32mIn[47], line 5\u001b[0m\n\u001b[1;32m      1\u001b[0m rfr \u001b[38;5;241m=\u001b[39m RandomForestRegressor(n_estimators\u001b[38;5;241m=\u001b[39m\u001b[38;5;241m100\u001b[39m, max_depth\u001b[38;5;241m=\u001b[39m\u001b[38;5;241m10\u001b[39m, min_samples_split\u001b[38;5;241m=\u001b[39m\u001b[38;5;241m2\u001b[39m,\n\u001b[1;32m      2\u001b[0m                                           min_samples_leaf\u001b[38;5;241m=\u001b[39m\u001b[38;5;241m1\u001b[39m, max_features\u001b[38;5;241m=\u001b[39m\u001b[38;5;28;01mNone\u001b[39;00m, random_state\u001b[38;5;241m=\u001b[39m\u001b[38;5;241m42\u001b[39m, n_jobs\u001b[38;5;241m=\u001b[39m\u001b[38;5;241m-\u001b[39m\u001b[38;5;241m1\u001b[39m)\n\u001b[1;32m      4\u001b[0m \u001b[38;5;66;03m# Fit 'rfr' to PCA training set\u001b[39;00m\n\u001b[0;32m----> 5\u001b[0m \u001b[43mrfr\u001b[49m\u001b[38;5;241;43m.\u001b[39;49m\u001b[43mfit\u001b[49m\u001b[43m(\u001b[49m\u001b[43mX_train\u001b[49m\u001b[43m,\u001b[49m\u001b[43m \u001b[49m\u001b[43my_train\u001b[49m\u001b[43m)\u001b[49m\n\u001b[1;32m      7\u001b[0m \u001b[38;5;66;03m# Predict the test set labels 'y_pred_rfr'\u001b[39;00m\n\u001b[1;32m      8\u001b[0m y_pred_rfr \u001b[38;5;241m=\u001b[39m rfr\u001b[38;5;241m.\u001b[39mpredict(X_test)\n",
      "File \u001b[0;32m/Library/Frameworks/Python.framework/Versions/3.11/lib/python3.11/site-packages/sklearn/base.py:1152\u001b[0m, in \u001b[0;36m_fit_context.<locals>.decorator.<locals>.wrapper\u001b[0;34m(estimator, *args, **kwargs)\u001b[0m\n\u001b[1;32m   1145\u001b[0m     estimator\u001b[38;5;241m.\u001b[39m_validate_params()\n\u001b[1;32m   1147\u001b[0m \u001b[38;5;28;01mwith\u001b[39;00m config_context(\n\u001b[1;32m   1148\u001b[0m     skip_parameter_validation\u001b[38;5;241m=\u001b[39m(\n\u001b[1;32m   1149\u001b[0m         prefer_skip_nested_validation \u001b[38;5;129;01mor\u001b[39;00m global_skip_validation\n\u001b[1;32m   1150\u001b[0m     )\n\u001b[1;32m   1151\u001b[0m ):\n\u001b[0;32m-> 1152\u001b[0m     \u001b[38;5;28;01mreturn\u001b[39;00m \u001b[43mfit_method\u001b[49m\u001b[43m(\u001b[49m\u001b[43mestimator\u001b[49m\u001b[43m,\u001b[49m\u001b[43m \u001b[49m\u001b[38;5;241;43m*\u001b[39;49m\u001b[43margs\u001b[49m\u001b[43m,\u001b[49m\u001b[43m \u001b[49m\u001b[38;5;241;43m*\u001b[39;49m\u001b[38;5;241;43m*\u001b[39;49m\u001b[43mkwargs\u001b[49m\u001b[43m)\u001b[49m\n",
      "File \u001b[0;32m/Library/Frameworks/Python.framework/Versions/3.11/lib/python3.11/site-packages/sklearn/ensemble/_forest.py:456\u001b[0m, in \u001b[0;36mBaseForest.fit\u001b[0;34m(self, X, y, sample_weight)\u001b[0m\n\u001b[1;32m    445\u001b[0m trees \u001b[38;5;241m=\u001b[39m [\n\u001b[1;32m    446\u001b[0m     \u001b[38;5;28mself\u001b[39m\u001b[38;5;241m.\u001b[39m_make_estimator(append\u001b[38;5;241m=\u001b[39m\u001b[38;5;28;01mFalse\u001b[39;00m, random_state\u001b[38;5;241m=\u001b[39mrandom_state)\n\u001b[1;32m    447\u001b[0m     \u001b[38;5;28;01mfor\u001b[39;00m i \u001b[38;5;129;01min\u001b[39;00m \u001b[38;5;28mrange\u001b[39m(n_more_estimators)\n\u001b[1;32m    448\u001b[0m ]\n\u001b[1;32m    450\u001b[0m \u001b[38;5;66;03m# Parallel loop: we prefer the threading backend as the Cython code\u001b[39;00m\n\u001b[1;32m    451\u001b[0m \u001b[38;5;66;03m# for fitting the trees is internally releasing the Python GIL\u001b[39;00m\n\u001b[1;32m    452\u001b[0m \u001b[38;5;66;03m# making threading more efficient than multiprocessing in\u001b[39;00m\n\u001b[1;32m    453\u001b[0m \u001b[38;5;66;03m# that case. However, for joblib 0.12+ we respect any\u001b[39;00m\n\u001b[1;32m    454\u001b[0m \u001b[38;5;66;03m# parallel_backend contexts set at a higher level,\u001b[39;00m\n\u001b[1;32m    455\u001b[0m \u001b[38;5;66;03m# since correctness does not rely on using threads.\u001b[39;00m\n\u001b[0;32m--> 456\u001b[0m trees \u001b[38;5;241m=\u001b[39m \u001b[43mParallel\u001b[49m\u001b[43m(\u001b[49m\n\u001b[1;32m    457\u001b[0m \u001b[43m    \u001b[49m\u001b[43mn_jobs\u001b[49m\u001b[38;5;241;43m=\u001b[39;49m\u001b[38;5;28;43mself\u001b[39;49m\u001b[38;5;241;43m.\u001b[39;49m\u001b[43mn_jobs\u001b[49m\u001b[43m,\u001b[49m\n\u001b[1;32m    458\u001b[0m \u001b[43m    \u001b[49m\u001b[43mverbose\u001b[49m\u001b[38;5;241;43m=\u001b[39;49m\u001b[38;5;28;43mself\u001b[39;49m\u001b[38;5;241;43m.\u001b[39;49m\u001b[43mverbose\u001b[49m\u001b[43m,\u001b[49m\n\u001b[1;32m    459\u001b[0m \u001b[43m    \u001b[49m\u001b[43mprefer\u001b[49m\u001b[38;5;241;43m=\u001b[39;49m\u001b[38;5;124;43m\"\u001b[39;49m\u001b[38;5;124;43mthreads\u001b[39;49m\u001b[38;5;124;43m\"\u001b[39;49m\u001b[43m,\u001b[49m\n\u001b[1;32m    460\u001b[0m \u001b[43m\u001b[49m\u001b[43m)\u001b[49m\u001b[43m(\u001b[49m\n\u001b[1;32m    461\u001b[0m \u001b[43m    \u001b[49m\u001b[43mdelayed\u001b[49m\u001b[43m(\u001b[49m\u001b[43m_parallel_build_trees\u001b[49m\u001b[43m)\u001b[49m\u001b[43m(\u001b[49m\n\u001b[1;32m    462\u001b[0m \u001b[43m        \u001b[49m\u001b[43mt\u001b[49m\u001b[43m,\u001b[49m\n\u001b[1;32m    463\u001b[0m \u001b[43m        \u001b[49m\u001b[38;5;28;43mself\u001b[39;49m\u001b[38;5;241;43m.\u001b[39;49m\u001b[43mbootstrap\u001b[49m\u001b[43m,\u001b[49m\n\u001b[1;32m    464\u001b[0m \u001b[43m        \u001b[49m\u001b[43mX\u001b[49m\u001b[43m,\u001b[49m\n\u001b[1;32m    465\u001b[0m \u001b[43m        \u001b[49m\u001b[43my\u001b[49m\u001b[43m,\u001b[49m\n\u001b[1;32m    466\u001b[0m \u001b[43m        \u001b[49m\u001b[43msample_weight\u001b[49m\u001b[43m,\u001b[49m\n\u001b[1;32m    467\u001b[0m \u001b[43m        \u001b[49m\u001b[43mi\u001b[49m\u001b[43m,\u001b[49m\n\u001b[1;32m    468\u001b[0m \u001b[43m        \u001b[49m\u001b[38;5;28;43mlen\u001b[39;49m\u001b[43m(\u001b[49m\u001b[43mtrees\u001b[49m\u001b[43m)\u001b[49m\u001b[43m,\u001b[49m\n\u001b[1;32m    469\u001b[0m \u001b[43m        \u001b[49m\u001b[43mverbose\u001b[49m\u001b[38;5;241;43m=\u001b[39;49m\u001b[38;5;28;43mself\u001b[39;49m\u001b[38;5;241;43m.\u001b[39;49m\u001b[43mverbose\u001b[49m\u001b[43m,\u001b[49m\n\u001b[1;32m    470\u001b[0m \u001b[43m        \u001b[49m\u001b[43mclass_weight\u001b[49m\u001b[38;5;241;43m=\u001b[39;49m\u001b[38;5;28;43mself\u001b[39;49m\u001b[38;5;241;43m.\u001b[39;49m\u001b[43mclass_weight\u001b[49m\u001b[43m,\u001b[49m\n\u001b[1;32m    471\u001b[0m \u001b[43m        \u001b[49m\u001b[43mn_samples_bootstrap\u001b[49m\u001b[38;5;241;43m=\u001b[39;49m\u001b[43mn_samples_bootstrap\u001b[49m\u001b[43m,\u001b[49m\n\u001b[1;32m    472\u001b[0m \u001b[43m    \u001b[49m\u001b[43m)\u001b[49m\n\u001b[1;32m    473\u001b[0m \u001b[43m    \u001b[49m\u001b[38;5;28;43;01mfor\u001b[39;49;00m\u001b[43m \u001b[49m\u001b[43mi\u001b[49m\u001b[43m,\u001b[49m\u001b[43m \u001b[49m\u001b[43mt\u001b[49m\u001b[43m \u001b[49m\u001b[38;5;129;43;01min\u001b[39;49;00m\u001b[43m \u001b[49m\u001b[38;5;28;43menumerate\u001b[39;49m\u001b[43m(\u001b[49m\u001b[43mtrees\u001b[49m\u001b[43m)\u001b[49m\n\u001b[1;32m    474\u001b[0m \u001b[43m\u001b[49m\u001b[43m)\u001b[49m\n\u001b[1;32m    476\u001b[0m \u001b[38;5;66;03m# Collect newly grown trees\u001b[39;00m\n\u001b[1;32m    477\u001b[0m \u001b[38;5;28mself\u001b[39m\u001b[38;5;241m.\u001b[39mestimators_\u001b[38;5;241m.\u001b[39mextend(trees)\n",
      "File \u001b[0;32m/Library/Frameworks/Python.framework/Versions/3.11/lib/python3.11/site-packages/sklearn/utils/parallel.py:65\u001b[0m, in \u001b[0;36mParallel.__call__\u001b[0;34m(self, iterable)\u001b[0m\n\u001b[1;32m     60\u001b[0m config \u001b[38;5;241m=\u001b[39m get_config()\n\u001b[1;32m     61\u001b[0m iterable_with_config \u001b[38;5;241m=\u001b[39m (\n\u001b[1;32m     62\u001b[0m     (_with_config(delayed_func, config), args, kwargs)\n\u001b[1;32m     63\u001b[0m     \u001b[38;5;28;01mfor\u001b[39;00m delayed_func, args, kwargs \u001b[38;5;129;01min\u001b[39;00m iterable\n\u001b[1;32m     64\u001b[0m )\n\u001b[0;32m---> 65\u001b[0m \u001b[38;5;28;01mreturn\u001b[39;00m \u001b[38;5;28;43msuper\u001b[39;49m\u001b[43m(\u001b[49m\u001b[43m)\u001b[49m\u001b[38;5;241;43m.\u001b[39;49m\u001b[38;5;21;43m__call__\u001b[39;49m\u001b[43m(\u001b[49m\u001b[43miterable_with_config\u001b[49m\u001b[43m)\u001b[49m\n",
      "File \u001b[0;32m/Library/Frameworks/Python.framework/Versions/3.11/lib/python3.11/site-packages/joblib/parallel.py:1952\u001b[0m, in \u001b[0;36mParallel.__call__\u001b[0;34m(self, iterable)\u001b[0m\n\u001b[1;32m   1946\u001b[0m \u001b[38;5;66;03m# The first item from the output is blank, but it makes the interpreter\u001b[39;00m\n\u001b[1;32m   1947\u001b[0m \u001b[38;5;66;03m# progress until it enters the Try/Except block of the generator and\u001b[39;00m\n\u001b[1;32m   1948\u001b[0m \u001b[38;5;66;03m# reach the first `yield` statement. This starts the aynchronous\u001b[39;00m\n\u001b[1;32m   1949\u001b[0m \u001b[38;5;66;03m# dispatch of the tasks to the workers.\u001b[39;00m\n\u001b[1;32m   1950\u001b[0m \u001b[38;5;28mnext\u001b[39m(output)\n\u001b[0;32m-> 1952\u001b[0m \u001b[38;5;28;01mreturn\u001b[39;00m output \u001b[38;5;28;01mif\u001b[39;00m \u001b[38;5;28mself\u001b[39m\u001b[38;5;241m.\u001b[39mreturn_generator \u001b[38;5;28;01melse\u001b[39;00m \u001b[38;5;28;43mlist\u001b[39;49m\u001b[43m(\u001b[49m\u001b[43moutput\u001b[49m\u001b[43m)\u001b[49m\n",
      "File \u001b[0;32m/Library/Frameworks/Python.framework/Versions/3.11/lib/python3.11/site-packages/joblib/parallel.py:1595\u001b[0m, in \u001b[0;36mParallel._get_outputs\u001b[0;34m(self, iterator, pre_dispatch)\u001b[0m\n\u001b[1;32m   1592\u001b[0m     \u001b[38;5;28;01myield\u001b[39;00m\n\u001b[1;32m   1594\u001b[0m     \u001b[38;5;28;01mwith\u001b[39;00m \u001b[38;5;28mself\u001b[39m\u001b[38;5;241m.\u001b[39m_backend\u001b[38;5;241m.\u001b[39mretrieval_context():\n\u001b[0;32m-> 1595\u001b[0m         \u001b[38;5;28;01myield from\u001b[39;00m \u001b[38;5;28mself\u001b[39m\u001b[38;5;241m.\u001b[39m_retrieve()\n\u001b[1;32m   1597\u001b[0m \u001b[38;5;28;01mexcept\u001b[39;00m \u001b[38;5;167;01mGeneratorExit\u001b[39;00m:\n\u001b[1;32m   1598\u001b[0m     \u001b[38;5;66;03m# The generator has been garbage collected before being fully\u001b[39;00m\n\u001b[1;32m   1599\u001b[0m     \u001b[38;5;66;03m# consumed. This aborts the remaining tasks if possible and warn\u001b[39;00m\n\u001b[1;32m   1600\u001b[0m     \u001b[38;5;66;03m# the user if necessary.\u001b[39;00m\n\u001b[1;32m   1601\u001b[0m     \u001b[38;5;28mself\u001b[39m\u001b[38;5;241m.\u001b[39m_exception \u001b[38;5;241m=\u001b[39m \u001b[38;5;28;01mTrue\u001b[39;00m\n",
      "File \u001b[0;32m/Library/Frameworks/Python.framework/Versions/3.11/lib/python3.11/site-packages/joblib/parallel.py:1707\u001b[0m, in \u001b[0;36mParallel._retrieve\u001b[0;34m(self)\u001b[0m\n\u001b[1;32m   1702\u001b[0m \u001b[38;5;66;03m# If the next job is not ready for retrieval yet, we just wait for\u001b[39;00m\n\u001b[1;32m   1703\u001b[0m \u001b[38;5;66;03m# async callbacks to progress.\u001b[39;00m\n\u001b[1;32m   1704\u001b[0m \u001b[38;5;28;01mif\u001b[39;00m ((\u001b[38;5;28mlen\u001b[39m(\u001b[38;5;28mself\u001b[39m\u001b[38;5;241m.\u001b[39m_jobs) \u001b[38;5;241m==\u001b[39m \u001b[38;5;241m0\u001b[39m) \u001b[38;5;129;01mor\u001b[39;00m\n\u001b[1;32m   1705\u001b[0m     (\u001b[38;5;28mself\u001b[39m\u001b[38;5;241m.\u001b[39m_jobs[\u001b[38;5;241m0\u001b[39m]\u001b[38;5;241m.\u001b[39mget_status(\n\u001b[1;32m   1706\u001b[0m         timeout\u001b[38;5;241m=\u001b[39m\u001b[38;5;28mself\u001b[39m\u001b[38;5;241m.\u001b[39mtimeout) \u001b[38;5;241m==\u001b[39m TASK_PENDING)):\n\u001b[0;32m-> 1707\u001b[0m     time\u001b[38;5;241m.\u001b[39msleep(\u001b[38;5;241m0.01\u001b[39m)\n\u001b[1;32m   1708\u001b[0m     \u001b[38;5;28;01mcontinue\u001b[39;00m\n\u001b[1;32m   1710\u001b[0m \u001b[38;5;66;03m# We need to be careful: the job list can be filling up as\u001b[39;00m\n\u001b[1;32m   1711\u001b[0m \u001b[38;5;66;03m# we empty it and Python list are not thread-safe by\u001b[39;00m\n\u001b[1;32m   1712\u001b[0m \u001b[38;5;66;03m# default hence the use of the lock\u001b[39;00m\n",
      "\u001b[0;31mKeyboardInterrupt\u001b[0m: "
     ]
    }
   ],
   "source": [
    "rfr = RandomForestRegressor(n_estimators=100, max_depth=10, min_samples_split=2,\n",
    "                                          min_samples_leaf=1, max_features=None, random_state=42, n_jobs=-1)\n",
    "\n",
    "# Fit 'rfr' to PCA training set\n",
    "rfr.fit(X_train, y_train)\n",
    "\n",
    "# Predict the test set labels 'y_pred_rfr'\n",
    "y_pred_rfr = rfr.predict(X_test)\n",
    "\n",
    "# Output the accuracy of our prediction\n",
    "print(f\"Accuracy of Random Forest Regressor is {round(accuracy_score(y_test, y_pred_rfr)*100,2)}%\")"
   ]
  },
  {
   "cell_type": "markdown",
   "metadata": {},
   "source": [
    "#### Assessing Accuracy"
   ]
  },
  {
   "cell_type": "code",
   "execution_count": null,
   "metadata": {},
   "outputs": [],
   "source": [
    "mse = mean_squared_error(y_test, y_pred)\n",
    "r2 = r2_score(y_test, y_pred)\n",
    "mae = mean_absolute_error(y_test, y_pred)\n",
    "\n",
    "print(f\"Mean Squared Error: {mse}\")\n",
    "print(f\"R^2 Score: {r2}\")\n",
    "print(f\"MAE Score: {mae}\")"
   ]
  },
  {
   "cell_type": "markdown",
   "metadata": {},
   "source": [
    "#### Finetuning Hyperparameters"
   ]
  },
  {
   "cell_type": "code",
   "execution_count": null,
   "metadata": {},
   "outputs": [],
   "source": [
    "# Define the parameter grid\n",
    "param_grid = {\n",
    "    'n_estimators': [100, 150, 200],\n",
    "    'max_depth': [10, 20, 30],\n",
    "    'min_samples_split': [2, 5, 10],\n",
    "    'min_samples_leaf': [1, 2, 4],\n",
    "    'max_features': [None, 'sqrt']\n",
    "}\n",
    "\n",
    "# Instantiate the search\n",
    "random_search = RandomizedSearchCV(estimator=rfr, param_distributions=param_grid,\n",
    "                                   n_iter=25, cv=5, verbose=2, random_state=42, n_jobs=-1)\n",
    "\n",
    "# Fit the search model\n",
    "random_search.fit(X_train, y_train)\n",
    "\n",
    "# Print the best parameters\n",
    "print(\"Best parameters:\", random_search.best_params_)"
   ]
  },
  {
   "cell_type": "markdown",
   "metadata": {},
   "source": [
    "#### Refine Model"
   ]
  },
  {
   "cell_type": "markdown",
   "metadata": {},
   "source": [
    "#### Cross Validate"
   ]
  },
  {
   "cell_type": "code",
   "execution_count": null,
   "metadata": {},
   "outputs": [],
   "source": [
    "mae_scores = cross_val_score(rfr, X, y, cv=5, scoring='neg_mean_absolute_error')\n",
    "mae_scores = -mae_scores\n",
    "\n",
    "print(\"MAE scores for each fold:\", mae_scores)\n",
    "print(\"Mean MAE across folds:\", mae_scores.mean())"
   ]
  },
  {
   "cell_type": "markdown",
   "metadata": {},
   "source": [
    "### Random Forest on PCA Data"
   ]
  },
  {
   "cell_type": "markdown",
   "metadata": {},
   "source": [
    "#### Create RandomForestRefressor using PCA reduced data"
   ]
  },
  {
   "cell_type": "code",
   "execution_count": 48,
   "metadata": {},
   "outputs": [
    {
     "ename": "KeyboardInterrupt",
     "evalue": "",
     "output_type": "error",
     "traceback": [
      "\u001b[0;31m---------------------------------------------------------------------------\u001b[0m",
      "\u001b[0;31mKeyboardInterrupt\u001b[0m                         Traceback (most recent call last)",
      "Cell \u001b[0;32mIn[48], line 5\u001b[0m\n\u001b[1;32m      1\u001b[0m rfr1 \u001b[38;5;241m=\u001b[39m RandomForestRegressor(n_estimators\u001b[38;5;241m=\u001b[39m\u001b[38;5;241m100\u001b[39m, max_depth\u001b[38;5;241m=\u001b[39m\u001b[38;5;241m10\u001b[39m, min_samples_split\u001b[38;5;241m=\u001b[39m\u001b[38;5;241m2\u001b[39m,\n\u001b[1;32m      2\u001b[0m                                           min_samples_leaf\u001b[38;5;241m=\u001b[39m\u001b[38;5;241m1\u001b[39m, max_features\u001b[38;5;241m=\u001b[39m\u001b[38;5;28;01mNone\u001b[39;00m, random_state\u001b[38;5;241m=\u001b[39m\u001b[38;5;241m42\u001b[39m, n_jobs\u001b[38;5;241m=\u001b[39m\u001b[38;5;241m-\u001b[39m\u001b[38;5;241m1\u001b[39m)\n\u001b[1;32m      4\u001b[0m \u001b[38;5;66;03m# Fit 'rfr' to PCA training set\u001b[39;00m\n\u001b[0;32m----> 5\u001b[0m \u001b[43mrfr1\u001b[49m\u001b[38;5;241;43m.\u001b[39;49m\u001b[43mfit\u001b[49m\u001b[43m(\u001b[49m\u001b[43mX_train_pca\u001b[49m\u001b[43m,\u001b[49m\u001b[43m \u001b[49m\u001b[43my_train\u001b[49m\u001b[43m)\u001b[49m\n\u001b[1;32m      7\u001b[0m \u001b[38;5;66;03m# Predict the test set labels 'y_pred_rfr'\u001b[39;00m\n\u001b[1;32m      8\u001b[0m y_pred_rfr \u001b[38;5;241m=\u001b[39m rfr1\u001b[38;5;241m.\u001b[39mpredict(X_test_pca)\n",
      "File \u001b[0;32m/Library/Frameworks/Python.framework/Versions/3.11/lib/python3.11/site-packages/sklearn/base.py:1152\u001b[0m, in \u001b[0;36m_fit_context.<locals>.decorator.<locals>.wrapper\u001b[0;34m(estimator, *args, **kwargs)\u001b[0m\n\u001b[1;32m   1145\u001b[0m     estimator\u001b[38;5;241m.\u001b[39m_validate_params()\n\u001b[1;32m   1147\u001b[0m \u001b[38;5;28;01mwith\u001b[39;00m config_context(\n\u001b[1;32m   1148\u001b[0m     skip_parameter_validation\u001b[38;5;241m=\u001b[39m(\n\u001b[1;32m   1149\u001b[0m         prefer_skip_nested_validation \u001b[38;5;129;01mor\u001b[39;00m global_skip_validation\n\u001b[1;32m   1150\u001b[0m     )\n\u001b[1;32m   1151\u001b[0m ):\n\u001b[0;32m-> 1152\u001b[0m     \u001b[38;5;28;01mreturn\u001b[39;00m \u001b[43mfit_method\u001b[49m\u001b[43m(\u001b[49m\u001b[43mestimator\u001b[49m\u001b[43m,\u001b[49m\u001b[43m \u001b[49m\u001b[38;5;241;43m*\u001b[39;49m\u001b[43margs\u001b[49m\u001b[43m,\u001b[49m\u001b[43m \u001b[49m\u001b[38;5;241;43m*\u001b[39;49m\u001b[38;5;241;43m*\u001b[39;49m\u001b[43mkwargs\u001b[49m\u001b[43m)\u001b[49m\n",
      "File \u001b[0;32m/Library/Frameworks/Python.framework/Versions/3.11/lib/python3.11/site-packages/sklearn/ensemble/_forest.py:456\u001b[0m, in \u001b[0;36mBaseForest.fit\u001b[0;34m(self, X, y, sample_weight)\u001b[0m\n\u001b[1;32m    445\u001b[0m trees \u001b[38;5;241m=\u001b[39m [\n\u001b[1;32m    446\u001b[0m     \u001b[38;5;28mself\u001b[39m\u001b[38;5;241m.\u001b[39m_make_estimator(append\u001b[38;5;241m=\u001b[39m\u001b[38;5;28;01mFalse\u001b[39;00m, random_state\u001b[38;5;241m=\u001b[39mrandom_state)\n\u001b[1;32m    447\u001b[0m     \u001b[38;5;28;01mfor\u001b[39;00m i \u001b[38;5;129;01min\u001b[39;00m \u001b[38;5;28mrange\u001b[39m(n_more_estimators)\n\u001b[1;32m    448\u001b[0m ]\n\u001b[1;32m    450\u001b[0m \u001b[38;5;66;03m# Parallel loop: we prefer the threading backend as the Cython code\u001b[39;00m\n\u001b[1;32m    451\u001b[0m \u001b[38;5;66;03m# for fitting the trees is internally releasing the Python GIL\u001b[39;00m\n\u001b[1;32m    452\u001b[0m \u001b[38;5;66;03m# making threading more efficient than multiprocessing in\u001b[39;00m\n\u001b[1;32m    453\u001b[0m \u001b[38;5;66;03m# that case. However, for joblib 0.12+ we respect any\u001b[39;00m\n\u001b[1;32m    454\u001b[0m \u001b[38;5;66;03m# parallel_backend contexts set at a higher level,\u001b[39;00m\n\u001b[1;32m    455\u001b[0m \u001b[38;5;66;03m# since correctness does not rely on using threads.\u001b[39;00m\n\u001b[0;32m--> 456\u001b[0m trees \u001b[38;5;241m=\u001b[39m \u001b[43mParallel\u001b[49m\u001b[43m(\u001b[49m\n\u001b[1;32m    457\u001b[0m \u001b[43m    \u001b[49m\u001b[43mn_jobs\u001b[49m\u001b[38;5;241;43m=\u001b[39;49m\u001b[38;5;28;43mself\u001b[39;49m\u001b[38;5;241;43m.\u001b[39;49m\u001b[43mn_jobs\u001b[49m\u001b[43m,\u001b[49m\n\u001b[1;32m    458\u001b[0m \u001b[43m    \u001b[49m\u001b[43mverbose\u001b[49m\u001b[38;5;241;43m=\u001b[39;49m\u001b[38;5;28;43mself\u001b[39;49m\u001b[38;5;241;43m.\u001b[39;49m\u001b[43mverbose\u001b[49m\u001b[43m,\u001b[49m\n\u001b[1;32m    459\u001b[0m \u001b[43m    \u001b[49m\u001b[43mprefer\u001b[49m\u001b[38;5;241;43m=\u001b[39;49m\u001b[38;5;124;43m\"\u001b[39;49m\u001b[38;5;124;43mthreads\u001b[39;49m\u001b[38;5;124;43m\"\u001b[39;49m\u001b[43m,\u001b[49m\n\u001b[1;32m    460\u001b[0m \u001b[43m\u001b[49m\u001b[43m)\u001b[49m\u001b[43m(\u001b[49m\n\u001b[1;32m    461\u001b[0m \u001b[43m    \u001b[49m\u001b[43mdelayed\u001b[49m\u001b[43m(\u001b[49m\u001b[43m_parallel_build_trees\u001b[49m\u001b[43m)\u001b[49m\u001b[43m(\u001b[49m\n\u001b[1;32m    462\u001b[0m \u001b[43m        \u001b[49m\u001b[43mt\u001b[49m\u001b[43m,\u001b[49m\n\u001b[1;32m    463\u001b[0m \u001b[43m        \u001b[49m\u001b[38;5;28;43mself\u001b[39;49m\u001b[38;5;241;43m.\u001b[39;49m\u001b[43mbootstrap\u001b[49m\u001b[43m,\u001b[49m\n\u001b[1;32m    464\u001b[0m \u001b[43m        \u001b[49m\u001b[43mX\u001b[49m\u001b[43m,\u001b[49m\n\u001b[1;32m    465\u001b[0m \u001b[43m        \u001b[49m\u001b[43my\u001b[49m\u001b[43m,\u001b[49m\n\u001b[1;32m    466\u001b[0m \u001b[43m        \u001b[49m\u001b[43msample_weight\u001b[49m\u001b[43m,\u001b[49m\n\u001b[1;32m    467\u001b[0m \u001b[43m        \u001b[49m\u001b[43mi\u001b[49m\u001b[43m,\u001b[49m\n\u001b[1;32m    468\u001b[0m \u001b[43m        \u001b[49m\u001b[38;5;28;43mlen\u001b[39;49m\u001b[43m(\u001b[49m\u001b[43mtrees\u001b[49m\u001b[43m)\u001b[49m\u001b[43m,\u001b[49m\n\u001b[1;32m    469\u001b[0m \u001b[43m        \u001b[49m\u001b[43mverbose\u001b[49m\u001b[38;5;241;43m=\u001b[39;49m\u001b[38;5;28;43mself\u001b[39;49m\u001b[38;5;241;43m.\u001b[39;49m\u001b[43mverbose\u001b[49m\u001b[43m,\u001b[49m\n\u001b[1;32m    470\u001b[0m \u001b[43m        \u001b[49m\u001b[43mclass_weight\u001b[49m\u001b[38;5;241;43m=\u001b[39;49m\u001b[38;5;28;43mself\u001b[39;49m\u001b[38;5;241;43m.\u001b[39;49m\u001b[43mclass_weight\u001b[49m\u001b[43m,\u001b[49m\n\u001b[1;32m    471\u001b[0m \u001b[43m        \u001b[49m\u001b[43mn_samples_bootstrap\u001b[49m\u001b[38;5;241;43m=\u001b[39;49m\u001b[43mn_samples_bootstrap\u001b[49m\u001b[43m,\u001b[49m\n\u001b[1;32m    472\u001b[0m \u001b[43m    \u001b[49m\u001b[43m)\u001b[49m\n\u001b[1;32m    473\u001b[0m \u001b[43m    \u001b[49m\u001b[38;5;28;43;01mfor\u001b[39;49;00m\u001b[43m \u001b[49m\u001b[43mi\u001b[49m\u001b[43m,\u001b[49m\u001b[43m \u001b[49m\u001b[43mt\u001b[49m\u001b[43m \u001b[49m\u001b[38;5;129;43;01min\u001b[39;49;00m\u001b[43m \u001b[49m\u001b[38;5;28;43menumerate\u001b[39;49m\u001b[43m(\u001b[49m\u001b[43mtrees\u001b[49m\u001b[43m)\u001b[49m\n\u001b[1;32m    474\u001b[0m \u001b[43m\u001b[49m\u001b[43m)\u001b[49m\n\u001b[1;32m    476\u001b[0m \u001b[38;5;66;03m# Collect newly grown trees\u001b[39;00m\n\u001b[1;32m    477\u001b[0m \u001b[38;5;28mself\u001b[39m\u001b[38;5;241m.\u001b[39mestimators_\u001b[38;5;241m.\u001b[39mextend(trees)\n",
      "File \u001b[0;32m/Library/Frameworks/Python.framework/Versions/3.11/lib/python3.11/site-packages/sklearn/utils/parallel.py:65\u001b[0m, in \u001b[0;36mParallel.__call__\u001b[0;34m(self, iterable)\u001b[0m\n\u001b[1;32m     60\u001b[0m config \u001b[38;5;241m=\u001b[39m get_config()\n\u001b[1;32m     61\u001b[0m iterable_with_config \u001b[38;5;241m=\u001b[39m (\n\u001b[1;32m     62\u001b[0m     (_with_config(delayed_func, config), args, kwargs)\n\u001b[1;32m     63\u001b[0m     \u001b[38;5;28;01mfor\u001b[39;00m delayed_func, args, kwargs \u001b[38;5;129;01min\u001b[39;00m iterable\n\u001b[1;32m     64\u001b[0m )\n\u001b[0;32m---> 65\u001b[0m \u001b[38;5;28;01mreturn\u001b[39;00m \u001b[38;5;28;43msuper\u001b[39;49m\u001b[43m(\u001b[49m\u001b[43m)\u001b[49m\u001b[38;5;241;43m.\u001b[39;49m\u001b[38;5;21;43m__call__\u001b[39;49m\u001b[43m(\u001b[49m\u001b[43miterable_with_config\u001b[49m\u001b[43m)\u001b[49m\n",
      "File \u001b[0;32m/Library/Frameworks/Python.framework/Versions/3.11/lib/python3.11/site-packages/joblib/parallel.py:1952\u001b[0m, in \u001b[0;36mParallel.__call__\u001b[0;34m(self, iterable)\u001b[0m\n\u001b[1;32m   1946\u001b[0m \u001b[38;5;66;03m# The first item from the output is blank, but it makes the interpreter\u001b[39;00m\n\u001b[1;32m   1947\u001b[0m \u001b[38;5;66;03m# progress until it enters the Try/Except block of the generator and\u001b[39;00m\n\u001b[1;32m   1948\u001b[0m \u001b[38;5;66;03m# reach the first `yield` statement. This starts the aynchronous\u001b[39;00m\n\u001b[1;32m   1949\u001b[0m \u001b[38;5;66;03m# dispatch of the tasks to the workers.\u001b[39;00m\n\u001b[1;32m   1950\u001b[0m \u001b[38;5;28mnext\u001b[39m(output)\n\u001b[0;32m-> 1952\u001b[0m \u001b[38;5;28;01mreturn\u001b[39;00m output \u001b[38;5;28;01mif\u001b[39;00m \u001b[38;5;28mself\u001b[39m\u001b[38;5;241m.\u001b[39mreturn_generator \u001b[38;5;28;01melse\u001b[39;00m \u001b[38;5;28;43mlist\u001b[39;49m\u001b[43m(\u001b[49m\u001b[43moutput\u001b[49m\u001b[43m)\u001b[49m\n",
      "File \u001b[0;32m/Library/Frameworks/Python.framework/Versions/3.11/lib/python3.11/site-packages/joblib/parallel.py:1595\u001b[0m, in \u001b[0;36mParallel._get_outputs\u001b[0;34m(self, iterator, pre_dispatch)\u001b[0m\n\u001b[1;32m   1592\u001b[0m     \u001b[38;5;28;01myield\u001b[39;00m\n\u001b[1;32m   1594\u001b[0m     \u001b[38;5;28;01mwith\u001b[39;00m \u001b[38;5;28mself\u001b[39m\u001b[38;5;241m.\u001b[39m_backend\u001b[38;5;241m.\u001b[39mretrieval_context():\n\u001b[0;32m-> 1595\u001b[0m         \u001b[38;5;28;01myield from\u001b[39;00m \u001b[38;5;28mself\u001b[39m\u001b[38;5;241m.\u001b[39m_retrieve()\n\u001b[1;32m   1597\u001b[0m \u001b[38;5;28;01mexcept\u001b[39;00m \u001b[38;5;167;01mGeneratorExit\u001b[39;00m:\n\u001b[1;32m   1598\u001b[0m     \u001b[38;5;66;03m# The generator has been garbage collected before being fully\u001b[39;00m\n\u001b[1;32m   1599\u001b[0m     \u001b[38;5;66;03m# consumed. This aborts the remaining tasks if possible and warn\u001b[39;00m\n\u001b[1;32m   1600\u001b[0m     \u001b[38;5;66;03m# the user if necessary.\u001b[39;00m\n\u001b[1;32m   1601\u001b[0m     \u001b[38;5;28mself\u001b[39m\u001b[38;5;241m.\u001b[39m_exception \u001b[38;5;241m=\u001b[39m \u001b[38;5;28;01mTrue\u001b[39;00m\n",
      "File \u001b[0;32m/Library/Frameworks/Python.framework/Versions/3.11/lib/python3.11/site-packages/joblib/parallel.py:1707\u001b[0m, in \u001b[0;36mParallel._retrieve\u001b[0;34m(self)\u001b[0m\n\u001b[1;32m   1702\u001b[0m \u001b[38;5;66;03m# If the next job is not ready for retrieval yet, we just wait for\u001b[39;00m\n\u001b[1;32m   1703\u001b[0m \u001b[38;5;66;03m# async callbacks to progress.\u001b[39;00m\n\u001b[1;32m   1704\u001b[0m \u001b[38;5;28;01mif\u001b[39;00m ((\u001b[38;5;28mlen\u001b[39m(\u001b[38;5;28mself\u001b[39m\u001b[38;5;241m.\u001b[39m_jobs) \u001b[38;5;241m==\u001b[39m \u001b[38;5;241m0\u001b[39m) \u001b[38;5;129;01mor\u001b[39;00m\n\u001b[1;32m   1705\u001b[0m     (\u001b[38;5;28mself\u001b[39m\u001b[38;5;241m.\u001b[39m_jobs[\u001b[38;5;241m0\u001b[39m]\u001b[38;5;241m.\u001b[39mget_status(\n\u001b[1;32m   1706\u001b[0m         timeout\u001b[38;5;241m=\u001b[39m\u001b[38;5;28mself\u001b[39m\u001b[38;5;241m.\u001b[39mtimeout) \u001b[38;5;241m==\u001b[39m TASK_PENDING)):\n\u001b[0;32m-> 1707\u001b[0m     time\u001b[38;5;241m.\u001b[39msleep(\u001b[38;5;241m0.01\u001b[39m)\n\u001b[1;32m   1708\u001b[0m     \u001b[38;5;28;01mcontinue\u001b[39;00m\n\u001b[1;32m   1710\u001b[0m \u001b[38;5;66;03m# We need to be careful: the job list can be filling up as\u001b[39;00m\n\u001b[1;32m   1711\u001b[0m \u001b[38;5;66;03m# we empty it and Python list are not thread-safe by\u001b[39;00m\n\u001b[1;32m   1712\u001b[0m \u001b[38;5;66;03m# default hence the use of the lock\u001b[39;00m\n",
      "\u001b[0;31mKeyboardInterrupt\u001b[0m: "
     ]
    }
   ],
   "source": [
    "rfr1 = RandomForestRegressor(n_estimators=100, max_depth=10, min_samples_split=2,\n",
    "                                          min_samples_leaf=1, max_features=None, random_state=42, n_jobs=-1)\n",
    "\n",
    "# Fit 'rfr' to PCA training set\n",
    "rfr1.fit(X_train_pca, y_train)\n",
    "\n",
    "# Predict the test set labels 'y_pred_rfr'\n",
    "y_pred_rfr = rfr1.predict(X_test_pca)\n",
    "\n",
    "# Output the accuracy of our prediction\n",
    "print(f\"Accuracy of Random Forest Regressor on PCA data is {round(accuracy_score(y_test, y_pred_rfr)*100,2)}%\")"
   ]
  },
  {
   "cell_type": "markdown",
   "metadata": {},
   "source": [
    "#### Assessing Accuracy"
   ]
  },
  {
   "cell_type": "code",
   "execution_count": null,
   "metadata": {},
   "outputs": [],
   "source": [
    "mse = mean_squared_error(y_test, y_pred)\n",
    "r2 = r2_score(y_test, y_pred)\n",
    "mae = mean_absolute_error(y_test, y_pred)\n",
    "\n",
    "print(f\"Mean Squared Error: {mse}\")\n",
    "print(f\"R^2 Score: {r2}\")\n",
    "print(f\"MAE Score: {mae}\")"
   ]
  },
  {
   "cell_type": "markdown",
   "metadata": {},
   "source": [
    "#### Fine tuning using Hyper parameters"
   ]
  },
  {
   "cell_type": "code",
   "execution_count": null,
   "metadata": {},
   "outputs": [],
   "source": [
    "# Define the parameter grid\n",
    "param_grid = {\n",
    "    'n_estimators': [100, 150, 200],\n",
    "    'max_depth': [10, 20, 30],\n",
    "    'min_samples_split': [2, 5, 10],\n",
    "    'min_samples_leaf': [1, 2, 4],\n",
    "    'max_features': [None, 'sqrt']\n",
    "}\n",
    "\n",
    "# Instantiate the search\n",
    "random_search = RandomizedSearchCV(estimator=rfr1, param_distributions=param_grid,\n",
    "                                   n_iter=25, cv=5, verbose=2, random_state=42, n_jobs=-1)\n",
    "\n",
    "# Fit the search model\n",
    "random_search.fit(X_train_pca, y_train)\n",
    "\n",
    "# Print the best parameters\n",
    "print(\"Best parameters:\", random_search.best_params_)"
   ]
  },
  {
   "cell_type": "markdown",
   "metadata": {},
   "source": [
    "#### Refine Model"
   ]
  },
  {
   "cell_type": "markdown",
   "metadata": {},
   "source": [
    "#### Cross Validate Model"
   ]
  },
  {
   "cell_type": "code",
   "execution_count": null,
   "metadata": {},
   "outputs": [],
   "source": [
    "mae_scores = cross_val_score(rfr1, X_pca, y, cv=5, scoring='neg_mean_absolute_error')\n",
    "mae_scores = -mae_scores\n",
    "\n",
    "print(\"MAE scores for each fold:\", mae_scores)\n",
    "print(\"Mean MAE across folds:\", mae_scores.mean())\n"
   ]
  },
  {
   "cell_type": "markdown",
   "metadata": {},
   "source": [
    "### Random Forest on Smaller Dataset"
   ]
  },
  {
   "cell_type": "markdown",
   "metadata": {},
   "source": [
    "#### Select the Most Important Features"
   ]
  },
  {
   "cell_type": "code",
   "execution_count": null,
   "metadata": {},
   "outputs": [],
   "source": [
    "# Calculate cumulative importance\n",
    "sorted_feature_importance_df['Cumulative_Importance'] = sorted_feature_importance_df['Importance'].cumsum()\n",
    "\n",
    "# Determine the number of features required to reach the cumulative importance threshold\n",
    "threshold = 0.95  # for example, 95% of the total importance\n",
    "important_features = sorted_feature_importance_df[sorted_feature_importance_df['Cumulative_Importance'] <= threshold]['Feature'].values\n",
    "print(f\"The numebr of features needed to retain 95% of importance is: {len(important_features)}\")"
   ]
  },
  {
   "cell_type": "code",
   "execution_count": null,
   "metadata": {},
   "outputs": [],
   "source": [
    "# Select most important features, include target variable\n",
    "rfr2_data = arcsinh_df_accepted[important_features + 'ROI_arcsinh']"
   ]
  },
  {
   "cell_type": "markdown",
   "metadata": {},
   "source": [
    "#### Create a new Dataset using most important features only"
   ]
  },
  {
   "cell_type": "code",
   "execution_count": null,
   "metadata": {},
   "outputs": [],
   "source": [
    "# Set up target and feature variables\n",
    "y = rfr2_data['ROI_arcsinh'].values\n",
    "X = rfr2_data.drop(columns=['ROI_arcsinh'])"
   ]
  },
  {
   "cell_type": "markdown",
   "metadata": {},
   "source": [
    "#### Create a RandomForestRegressor Using Most Important Features"
   ]
  },
  {
   "cell_type": "code",
   "execution_count": null,
   "metadata": {},
   "outputs": [],
   "source": [
    "# Split data into 80% train and 20% test\n",
    "X_train, X_test, y_train, y_test = train_test_split(X, y, test_size=0.2, random_state=42)\n",
    "\n",
    "rfr2 = RandomForestRegressor(n_estimators=100, max_depth=None, min_samples_split=2,\n",
    "                                          min_samples_leaf=1, max_features=None, random_state=42, n_jobs=-1)\n",
    "\n",
    "# Fit 'rfr2' to the training set\n",
    "rfr2.fit(X_train, y_train)\n",
    "\n",
    "# Predict the test set labels 'y_pred_rfr'\n",
    "y_pred_rfr = rfr2.predict(X_test)\n",
    "\n",
    "# Output the accuracy of our prediction\n",
    "print(f\"Accuracy of Random Forest Regressor is {round(accuracy_score(y_test, y_pred_rfr)*100,2)}%\")"
   ]
  },
  {
   "cell_type": "markdown",
   "metadata": {},
   "source": [
    "#### Assessing Accuracy"
   ]
  },
  {
   "cell_type": "code",
   "execution_count": null,
   "metadata": {},
   "outputs": [],
   "source": [
    "y_pred = rfr2.predict(X_test)\n",
    "mse = mean_squared_error(y_test, y_pred)\n",
    "r2 = r2_score(y_test, y_pred)\n",
    "mae = mean_absolute_error(y_test, y_pred)\n",
    "\n",
    "print(f\"Mean Squared Error: {mse}\")\n",
    "print(f\"R^2 Score: {r2}\")\n",
    "print(f\"MAE Score: {mae}\")\n"
   ]
  },
  {
   "cell_type": "markdown",
   "metadata": {},
   "source": [
    "#### Tuning Hyperparams"
   ]
  },
  {
   "cell_type": "code",
   "execution_count": null,
   "metadata": {},
   "outputs": [],
   "source": [
    "# Define the parameter grid\n",
    "param_grid = {\n",
    "    'n_estimators': [100, 150, 200],\n",
    "    'max_depth': [10, 20, 30],\n",
    "    'min_samples_split': [2, 5, 10],\n",
    "    'min_samples_leaf': [1, 2, 4],\n",
    "    'max_features': [None, 'sqrt']\n",
    "}\n",
    "\n",
    "# Instantiate the search\n",
    "random_search = RandomizedSearchCV(estimator=rfr2, param_distributions=param_grid,\n",
    "                                   n_iter=25, cv=5, verbose=2, random_state=42, n_jobs=-1)\n",
    "\n",
    "# Fit the search model\n",
    "random_search.fit(X_train, y_train)\n",
    "\n",
    "# Print the best parameters\n",
    "print(\"Best parameters:\", random_search.best_params_)"
   ]
  },
  {
   "cell_type": "markdown",
   "metadata": {},
   "source": [
    "#### Refine Model"
   ]
  },
  {
   "cell_type": "markdown",
   "metadata": {},
   "source": [
    "#### Cross Validate"
   ]
  },
  {
   "cell_type": "code",
   "execution_count": null,
   "metadata": {},
   "outputs": [],
   "source": [
    "mae_scores = cross_val_score(rfr2, X, y, cv=5, scoring='neg_mean_absolute_error')\n",
    "mae_scores = -mae_scores\n",
    "\n",
    "print(\"MAE scores for each fold:\", mae_scores)\n",
    "print(\"Mean MAE across folds:\", mae_scores.mean())"
   ]
  },
  {
   "cell_type": "markdown",
   "metadata": {},
   "source": [
    "## Implement XGBoost"
   ]
  }
 ],
 "metadata": {
  "kernelspec": {
   "display_name": "Python 3",
   "language": "python",
   "name": "python3"
  },
  "language_info": {
   "codemirror_mode": {
    "name": "ipython",
    "version": 3
   },
   "file_extension": ".py",
   "mimetype": "text/x-python",
   "name": "python",
   "nbconvert_exporter": "python",
   "pygments_lexer": "ipython3",
   "version": "3.11.4"
  }
 },
 "nbformat": 4,
 "nbformat_minor": 2
}
