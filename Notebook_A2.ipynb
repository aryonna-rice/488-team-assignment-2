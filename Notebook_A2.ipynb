{
  "cells": [
    {
      "cell_type": "markdown",
      "source": [
        "# **BUSI 488 / COMP 488 Data Science in the Business World**\n",
        "## *Spring 2024*  \n",
        "\n",
        "## Team Assignment 2 - Zillow C\n",
        "Team member: Anthony Valentino, Dylan Doby, Emaan Tauseef, Ethan Kompathoum, Gina Jang, Aryonna Rice\n"
      ],
      "metadata": {
        "id": "61AIGDpAizMz"
      }
    },
    {
      "cell_type": "code",
      "execution_count": null,
      "metadata": {
        "colab": {
          "base_uri": "https://localhost:8080/"
        },
        "id": "nBMjHfo3D44J",
        "outputId": "19641c66-f4de-4592-e0fd-2e5fc9e47c44"
      },
      "outputs": [
        {
          "output_type": "stream",
          "name": "stdout",
          "text": [
            "Drive already mounted at /content/gdrive; to attempt to forcibly remount, call drive.mount(\"/content/gdrive\", force_remount=True).\n",
            "/content/gdrive/MyDrive/488\n",
            "Assignment_1  Class02  Class05\tClass07  Class10  Class12\n",
            "Assignment_2  Class04  Class06\tClass08  Class11  Class13\n"
          ]
        }
      ],
      "source": [
        "# 0. Connect your Google Drive\n",
        "from google.colab import drive\n",
        "drive.mount('/content/gdrive')\n",
        "%cd /content/gdrive/MyDrive/488\n",
        "!ls # special shell command to view the files in the home directory of the notebook environment"
      ]
    },
    {
      "cell_type": "code",
      "source": [
        "import json\n",
        "import pandas as pd\n",
        "import numpy as np\n",
        "import matplotlib.pyplot as plt\n",
        "from matplotlib.ticker import FuncFormatter\n",
        "\n",
        "# Load the Json and turn it into a Pandas dataframe (df)\n",
        "filepath_accepted = 'Assignment_2/LendingClub/accepted_2007_to_2018Q4.csv'\n",
        "filepath_rejected = 'Assignment_2/LendingClub/rejected_2007_to_2018Q4.csv'\n",
        "\n",
        "accepted_df_list = []\n",
        "rejected_df_list = []\n",
        "\n",
        "chunksize = 1000\n",
        "for chunk in pd.read_csv(filepath_accepted, chunksize=chunksize):\n",
        "  accepted_df_list.append(chunk)\n",
        "\n",
        "for chunk in pd.read_csv(filepath_rejected, chunksize=chunksize):\n",
        "  rejected_df_list.append(chunk)\n",
        "\n",
        "print(len(accepted_df_list))\n",
        "print(len(rejected_df_list))\n",
        "\n",
        "\"\"\"\n",
        "with open(filepath) as f:\n",
        "  data = json.load(f)\n",
        "\n",
        "#data.keys()\n",
        "df = pd.DataFrame(data)\n",
        "print(df.columns)\n",
        "\"\"\""
      ],
      "metadata": {
        "colab": {
          "base_uri": "https://localhost:8080/",
          "height": 70
        },
        "id": "Hve_FuAS1MDI",
        "outputId": "4d76713a-324b-4da4-ff3a-6f4a6d388d59"
      },
      "execution_count": null,
      "outputs": [
        {
          "output_type": "stream",
          "name": "stdout",
          "text": [
            "2261\n",
            "27649\n"
          ]
        },
        {
          "output_type": "execute_result",
          "data": {
            "text/plain": [
              "'\\nwith open(filepath) as f:\\n  data = json.load(f)\\n\\n#data.keys()\\ndf = pd.DataFrame(data)\\nprint(df.columns)\\n'"
            ],
            "application/vnd.google.colaboratory.intrinsic+json": {
              "type": "string"
            }
          },
          "metadata": {},
          "execution_count": 3
        }
      ]
    },
    {
      "cell_type": "code",
      "source": [
        "df1_accepted = accepted_df_list[1]\n",
        "df1_rejected = rejected_df_list[1]\n",
        "\n",
        "print(df1_accepted.columns)\n",
        "print(len(df1_accepted.columns))\n",
        "\n",
        "print(df1_rejected.columns)\n",
        "print(len(df1_rejected.columns))\n"
      ],
      "metadata": {
        "colab": {
          "base_uri": "https://localhost:8080/"
        },
        "id": "9a-mMCV9qWl0",
        "outputId": "6a775293-2b29-4c01-c7c0-cb8776420d0f"
      },
      "execution_count": null,
      "outputs": [
        {
          "output_type": "stream",
          "name": "stdout",
          "text": [
            "Index(['id', 'member_id', 'loan_amnt', 'funded_amnt', 'funded_amnt_inv',\n",
            "       'term', 'int_rate', 'installment', 'grade', 'sub_grade',\n",
            "       ...\n",
            "       'hardship_payoff_balance_amount', 'hardship_last_payment_amount',\n",
            "       'disbursement_method', 'debt_settlement_flag',\n",
            "       'debt_settlement_flag_date', 'settlement_status', 'settlement_date',\n",
            "       'settlement_amount', 'settlement_percentage', 'settlement_term'],\n",
            "      dtype='object', length=151)\n",
            "151\n",
            "Index(['id', 'member_id', 'loan_amnt', 'funded_amnt', 'funded_amnt_inv',\n",
            "       'term', 'int_rate', 'installment', 'grade', 'sub_grade',\n",
            "       ...\n",
            "       'hardship_payoff_balance_amount', 'hardship_last_payment_amount',\n",
            "       'disbursement_method', 'debt_settlement_flag',\n",
            "       'debt_settlement_flag_date', 'settlement_status', 'settlement_date',\n",
            "       'settlement_amount', 'settlement_percentage', 'settlement_term'],\n",
            "      dtype='object', length=151)\n",
            "151\n"
          ]
        }
      ]
    }
  ],
  "metadata": {
    "kernelspec": {
      "display_name": "Python 3",
      "language": "python",
      "name": "python3"
    },
    "language_info": {
      "codemirror_mode": {
        "name": "ipython",
        "version": 3
      },
      "file_extension": ".py",
      "mimetype": "text/x-python",
      "name": "python",
      "nbconvert_exporter": "python",
      "pygments_lexer": "ipython3",
      "version": "3.10.6"
    },
    "colab": {
      "provenance": []
    }
  },
  "nbformat": 4,
  "nbformat_minor": 0
}